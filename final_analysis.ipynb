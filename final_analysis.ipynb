{
 "cells": [
  {
   "cell_type": "markdown",
   "metadata": {},
   "source": [
    "## Notes\n",
    "\n",
    "DETR-run5 - Accuracy = 94.8%\n",
    "\n",
    "DETR-run7 - Accuracy = 84.5%"
   ]
  },
  {
   "cell_type": "code",
   "execution_count": 1,
   "metadata": {},
   "outputs": [
    {
     "name": "stderr",
     "output_type": "stream",
     "text": [
      "d:\\Object Detection\\object_detection\\venv\\Lib\\site-packages\\tqdm\\auto.py:21: TqdmWarning: IProgress not found. Please update jupyter and ipywidgets. See https://ipywidgets.readthedocs.io/en/stable/user_install.html\n",
      "  from .autonotebook import tqdm as notebook_tqdm\n"
     ]
    }
   ],
   "source": [
    "import os \n",
    "import supervision as sv\n",
    "from transformers import DetrForObjectDetection, DetrImageProcessor\n",
    "import matplotlib.pyplot as plt\n",
    "import numpy as np\n",
    "from torch.utils.data import DataLoader\n",
    "from PIL import Image, ImageDraw, ImageFont\n",
    "from inference2 import loadModel, inference4, inference2, inference3\n",
    "from img2pdf import readPDF, savePDF\n",
    "from createGroundTruth import create_ground_truth_dict\n",
    "import time\n",
    "import torchvision\n",
    "from torchvision.ops import box_iou\n",
    "\n",
    "import cv2\n",
    "import random\n",
    "import numpy as np\n",
    "import pandas as pd"
   ]
  },
  {
   "cell_type": "code",
   "execution_count": 2,
   "metadata": {},
   "outputs": [],
   "source": [
    "image_processor = DetrImageProcessor.from_pretrained(\"facebook/detr-resnet-50\")"
   ]
  },
  {
   "cell_type": "code",
   "execution_count": 4,
   "metadata": {},
   "outputs": [
    {
     "name": "stdout",
     "output_type": "stream",
     "text": [
      "loading annotations into memory...\n",
      "Done (t=0.01s)\n",
      "creating index...\n",
      "index created!\n",
      "loading annotations into memory...\n",
      "Done (t=0.00s)\n",
      "creating index...\n",
      "index created!\n",
      "loading annotations into memory...\n",
      "Done (t=0.00s)\n",
      "creating index...\n",
      "index created!\n",
      "Number of training examples: 130\n",
      "Number of validation examples: 32\n",
      "Number of test examples: 19\n"
     ]
    }
   ],
   "source": [
    "## CocoDetection Class \n",
    "\n",
    "# settings\n",
    "ANNOTATION_FILE_NAME = r\"result.json\"\n",
    "TRAIN_DIRECTORY = os.path.join(r\"dataset2\", r\"train\")\n",
    "VAL_DIRECTORY = os.path.join(r\"dataset2\", r\"val\")\n",
    "TEST_DIRECTORY = os.path.join(r\"dataset2\", r\"test\")\n",
    "\n",
    "class CocoDetection(torchvision.datasets.CocoDetection):\n",
    "    def __init__(\n",
    "        self,\n",
    "        image_directory_path: str,\n",
    "        image_processor,\n",
    "        train: bool = True\n",
    "    ):\n",
    "        annotation_file_path = os.path.join(image_directory_path, ANNOTATION_FILE_NAME)\n",
    "        super(CocoDetection, self).__init__(image_directory_path, annotation_file_path)\n",
    "        self.image_processor = image_processor\n",
    "\n",
    "    def __getitem__(self, idx):\n",
    "        images, annotations = super(CocoDetection, self).__getitem__(idx)\n",
    "        image_id = self.ids[idx]\n",
    "        annotations = {'image_id': image_id, 'annotations': annotations}\n",
    "        encoding = self.image_processor(images=images, annotations=annotations, return_tensors=\"pt\")\n",
    "        pixel_values = encoding[\"pixel_values\"].squeeze()\n",
    "        target = encoding[\"labels\"][0]\n",
    "\n",
    "        return pixel_values, target\n",
    "    \n",
    "TRAIN_DATASET = CocoDetection(\n",
    "    image_directory_path=TRAIN_DIRECTORY,\n",
    "    image_processor=image_processor,\n",
    "    train=True)\n",
    "VAL_DATASET = CocoDetection(\n",
    "    image_directory_path=VAL_DIRECTORY,\n",
    "    image_processor=image_processor,\n",
    "    train=False)\n",
    "TEST_DATASET = CocoDetection(\n",
    "    image_directory_path=TEST_DIRECTORY,\n",
    "    image_processor=image_processor,\n",
    "    train=False)\n",
    "\n",
    "print(\"Number of training examples:\", len(TRAIN_DATASET))\n",
    "print(\"Number of validation examples:\", len(VAL_DATASET))\n",
    "print(\"Number of test examples:\", len(TEST_DATASET))"
   ]
  },
  {
   "cell_type": "code",
   "execution_count": 68,
   "metadata": {},
   "outputs": [],
   "source": [
    "CHECKPOINT = \"facebook/detr-resnet-50\"\n",
    "\n",
    "# Best Performing Model\n",
    "MODEL_PATH = \"models/DETR-run7\"\n",
    "\n",
    "# Doesnt Work\n",
    "# MODEL_101 = 'facebook/detr-resnet-101'\n",
    "# CHECKPOINT_101 = 'facebook/detr-resnet-101'\n",
    "\n",
    "# Older Model\n",
    "# MODEL_PATH = \"models/DETR-run4\"\n",
    "\n",
    "\n",
    "## Load Model\n",
    "def loadModel(MODEL_PATH, CHECKPOINT):\n",
    "    model = DetrForObjectDetection.from_pretrained(MODEL_PATH)\n",
    "    image_processor = DetrImageProcessor.from_pretrained(CHECKPOINT)\n",
    "    return model, image_processor"
   ]
  },
  {
   "cell_type": "code",
   "execution_count": 69,
   "metadata": {},
   "outputs": [],
   "source": [
    "from transformers import DetrForObjectDetection\n",
    "import torch\n",
    "from collections import OrderedDict\n",
    "\n",
    "# Initialize the model architecture\n",
    "model, image_processor = loadModel(MODEL_PATH=MODEL_PATH, CHECKPOINT=CHECKPOINT)"
   ]
  },
  {
   "cell_type": "code",
   "execution_count": 77,
   "metadata": {},
   "outputs": [
    {
     "name": "stdout",
     "output_type": "stream",
     "text": [
      "Model loaded successfully!\n"
     ]
    }
   ],
   "source": [
    "\n",
    "# model, image_processor = loadModel(MODEL_PATH=MODEL_101, CHECKPOINT=CHECKPOINT_101)\n",
    "\n",
    "# Load your checkpoint\n",
    "checkpoint = torch.load(\"models/DETR-run7/ModelCheckpoints2/detr-epoch=47-val_loss=0.53.ckpt\", map_location='cpu')\n",
    "\n",
    "# Get the state dict\n",
    "state_dict = checkpoint['state_dict']\n",
    "\n",
    "# Remove the 'model.model.' prefix from the state dict keys\n",
    "new_state_dict = OrderedDict()\n",
    "for k, v in state_dict.items():\n",
    "    name = k.replace(\"model.model.\", \"\")\n",
    "    new_state_dict[name] = v\n",
    "\n",
    "# Load the modified state dict\n",
    "model.load_state_dict(new_state_dict, strict=False)\n",
    "\n",
    "# Move the model to GPU if available\n",
    "device = torch.device('cuda' if torch.cuda.is_available() else 'cpu')\n",
    "model.to(device)\n",
    "\n",
    "print(\"Model loaded successfully!\")"
   ]
  },
  {
   "cell_type": "code",
   "execution_count": 78,
   "metadata": {},
   "outputs": [],
   "source": [
    "## Create Ground Truth Dictionary\n",
    "# ground_truth = create_ground_truth_dict('dataset2/test/result.json')\n",
    "\n",
    "# For Older models\n",
    "ground_truth = create_ground_truth_dict('dataset2/test/result.json')"
   ]
  },
  {
   "cell_type": "code",
   "execution_count": 79,
   "metadata": {},
   "outputs": [
    {
     "data": {
      "text/plain": [
       "{0: 'bar-scale', 1: 'color-stamp', 2: 'detail-labels', 3: 'north-sign'}"
      ]
     },
     "execution_count": 79,
     "metadata": {},
     "output_type": "execute_result"
    }
   ],
   "source": [
    "categories = TEST_DATASET.coco.cats\n",
    "id2label = {k: v['name'] for k,v in categories.items()}\n",
    "id2label"
   ]
  },
  {
   "cell_type": "code",
   "execution_count": 80,
   "metadata": {},
   "outputs": [],
   "source": [
    "def add_missing_label(image, save_path, label):\n",
    "    id2label = {0: 'bar-scale', 1: 'color-stamp', 2: 'detail-labels', 3: 'north-sign'}\n",
    "    # id2label = {4: 'north-sign', 2: 'color-stamp', 1: 'bar-scale', 3: 'detail-labels'}\n",
    "    draw = ImageDraw.Draw(image)\n",
    "    font = ImageFont.load_default()\n",
    "    if label:\n",
    "        text = \"\"\n",
    "        for i in label: \n",
    "            text = text + f\"{id2label[i]} not detected\" + \"\\n\"\n",
    "    else:\n",
    "        text = \"\"\n",
    "    position = (10, 10)\n",
    "    draw.text(position, text, fill=\"red\", font=font)\n",
    "    image.save(save_path)"
   ]
  },
  {
   "cell_type": "code",
   "execution_count": 81,
   "metadata": {},
   "outputs": [],
   "source": [
    "## Inference Function\n",
    "IMAGE_FOLDER = 'Temp/images'\n",
    "CONFIDENCE_THRESHOLD = 0.6\n",
    "IOU_THRESHOLD = 0.7\n",
    "\n",
    "def inference(image_folder, CONFIDENCE_THRESHOLD, IOU_THRESHOLD):\n",
    "    results_dict = {}\n",
    "    \n",
    "    for img in os.listdir(image_folder):\n",
    "        IMAGE_PATH = os.path.join(image_folder, img)\n",
    "        print(f\"Processing {IMAGE_PATH}\")\n",
    "\n",
    "        image = cv2.imread(IMAGE_PATH)\n",
    "        inputs = image_processor(images=image, return_tensors='pt')\n",
    "\n",
    "        # Move inputs to the same device as the model\n",
    "        inputs = {k: v.to(model.device) for k, v in inputs.items()}\n",
    "\n",
    "        # Get ground truth for this image\n",
    "        target = ground_truth.get(img, {'boxes': torch.empty((0, 4)), 'labels': torch.empty((0,), dtype=torch.long)})\n",
    "        target = {k: v for k, v in target.items()}\n",
    "        # print(target)\n",
    "        with torch.no_grad():\n",
    "            outputs = model(**inputs)\n",
    "            \n",
    "            # Post-process\n",
    "            target_sizes = torch.tensor([image.shape[:2]]).to(model.device)\n",
    "            results = image_processor.post_process_object_detection(\n",
    "                outputs=outputs,\n",
    "                threshold=CONFIDENCE_THRESHOLD,\n",
    "                target_sizes=target_sizes\n",
    "            )[0]\n",
    "        \n",
    "        \n",
    "        detections = sv.Detections.from_transformers(transformers_results=results).with_nms(IOU_THRESHOLD)\n",
    "        labels = [f\"{id2label[class_id]} {confidence:.2f}\" for _, confidence, class_id, _ in detections]\n",
    "        \n",
    "        print(f\"Detected Labels - {set(detections.class_id)}\") \n",
    "        box_annotator = sv.BoxAnnotator()\n",
    "        frame = box_annotator.annotate(scene=image, detections=detections, labels=labels)\n",
    "        \n",
    "        image = Image.fromarray(frame)\n",
    "        image_path = f\"Temp/results/annotated_{img}\"\n",
    "        all_labels = {0, 1, 2, 3}\n",
    "        label = all_labels - set(detections.class_id)\n",
    "        # image.save(image_path)\n",
    "        add_missing_label(image, image_path, label) # type: ignore\n",
    "        results_dict[IMAGE_PATH.replace('Temp/', '')] = results\n",
    "    return results_dict"
   ]
  },
  {
   "cell_type": "code",
   "execution_count": 82,
   "metadata": {},
   "outputs": [
    {
     "name": "stdout",
     "output_type": "stream",
     "text": [
      "Processing Temp/images\\0f7db672-drawing_88.png\n",
      "Detected Labels - {1, 2, 3}\n",
      "Processing Temp/images\\1eecb4f3-drawing_25.png\n",
      "Detected Labels - {0, 1, 2, 3}\n",
      "Processing Temp/images\\2832a63f-drawing_44.png\n",
      "Detected Labels - {0, 1, 2, 3}\n",
      "Processing Temp/images\\2e4aefb0-drawing_15.png\n",
      "Detected Labels - {0, 1, 2, 3}\n",
      "Processing Temp/images\\3c56fa90-drawing_7.png\n",
      "Detected Labels - {1, 2, 3}\n",
      "Processing Temp/images\\594b3b57-drawing_113.png\n",
      "Detected Labels - {0, 2, 3}\n",
      "Processing Temp/images\\5b5d1b9b-drawing_123.png\n",
      "Detected Labels - {1, 2, 3}\n",
      "Processing Temp/images\\72719062-drawing_43.png\n",
      "Detected Labels - {0, 1, 2, 3}\n",
      "Processing Temp/images\\777ab86f-drawing_22.png\n",
      "Detected Labels - {1, 2, 3}\n",
      "Processing Temp/images\\78e13516-drawing_45.png\n",
      "Detected Labels - {0, 1, 2, 3}\n",
      "Processing Temp/images\\817c3fb2-drawing_42.png\n",
      "Detected Labels - {0, 1, 2, 3}\n",
      "Processing Temp/images\\81c64eea-drawing_106.png\n",
      "Detected Labels - {0, 1, 2, 3}\n",
      "Processing Temp/images\\8e605e02-drawing_56.png\n",
      "Detected Labels - {0, 1, 2, 3}\n",
      "Processing Temp/images\\a021edac-drawing_64.png\n",
      "Detected Labels - {0, 2, 3}\n",
      "Processing Temp/images\\a9720cda-drawing_76.png\n",
      "Detected Labels - {0, 1, 2, 3}\n",
      "Processing Temp/images\\abc5c537-drawing_48.png\n",
      "Detected Labels - {0, 1, 3}\n",
      "Processing Temp/images\\f12144f6-drawing_168.png\n",
      "Detected Labels - {1, 2, 3}\n",
      "Processing Temp/images\\f15ca727-drawing_67.png\n",
      "Detected Labels - {0, 1, 2, 3}\n",
      "Processing Temp/images\\f9310c0d-drawing_24.png\n",
      "Detected Labels - {0, 2, 3}\n",
      "Time taken: 48.20 seconds\n"
     ]
    }
   ],
   "source": [
    "start = time.time()\n",
    "results = inference(IMAGE_FOLDER, 0.5, 0.5)\n",
    "end = time.time()\n",
    "\n",
    "print(f\"Time taken: {end - start:.2f} seconds\")"
   ]
  },
  {
   "cell_type": "code",
   "execution_count": 15,
   "metadata": {},
   "outputs": [],
   "source": [
    "def savePDF(image_dir, pdf_path):\n",
    "    imagelist = []\n",
    "    im = None\n",
    "    for path in os.listdir(image_dir):\n",
    "        im = Image.open(os.path.join(image_dir, path)).convert('RGB')\n",
    "        imagelist.append(im)\n",
    "    # im3 = image3.convert('RGB')\n",
    "\n",
    "    im.save(pdf_path,save_all=True, append_images=imagelist)"
   ]
  },
  {
   "cell_type": "code",
   "execution_count": 448,
   "metadata": {},
   "outputs": [],
   "source": [
    "savePDF(image_dir='Temp/results', pdf_path='output.pdf')"
   ]
  },
  {
   "cell_type": "markdown",
   "metadata": {},
   "source": [
    "### Create Predictions DataFrame"
   ]
  },
  {
   "cell_type": "code",
   "execution_count": 16,
   "metadata": {},
   "outputs": [
    {
     "data": {
      "text/plain": [
       "(124, 6)"
      ]
     },
     "execution_count": 16,
     "metadata": {},
     "output_type": "execute_result"
    }
   ],
   "source": [
    "predictions_df = pd.DataFrame()\n",
    "for k in results:\n",
    "    df = pd.DataFrame(results[k]['boxes'].detach().to('cpu').numpy(), columns=['x1', 'y1', 'x2', 'y2'])\n",
    "    df['labels'] = results[k]['labels'].detach().to('cpu').numpy()\n",
    "    df['image'] = k.replace('images\\\\', '')\n",
    "    # print(df['image'])\n",
    "    predictions_df = pd.concat([predictions_df, df], ignore_index=True)\n",
    "predictions_df.shape"
   ]
  },
  {
   "cell_type": "code",
   "execution_count": 17,
   "metadata": {},
   "outputs": [
    {
     "data": {
      "text/plain": [
       "labels\n",
       "2    49\n",
       "1    32\n",
       "3    22\n",
       "0    21\n",
       "Name: count, dtype: int64"
      ]
     },
     "execution_count": 17,
     "metadata": {},
     "output_type": "execute_result"
    }
   ],
   "source": [
    "predictions_df['labels'].value_counts()"
   ]
  },
  {
   "cell_type": "markdown",
   "metadata": {},
   "source": [
    "### Create Ground Truths DataFrame"
   ]
  },
  {
   "cell_type": "code",
   "execution_count": 18,
   "metadata": {},
   "outputs": [
    {
     "data": {
      "text/plain": [
       "(116, 6)"
      ]
     },
     "execution_count": 18,
     "metadata": {},
     "output_type": "execute_result"
    }
   ],
   "source": [
    "ground_truth_df = pd.DataFrame()\n",
    "for k in ground_truth:\n",
    "    df = pd.DataFrame(ground_truth[k]['boxes'], columns=['x1', 'y1', 'x2', 'y2'])\n",
    "    df['labels'] = ground_truth[k]['labels']\n",
    "    # print(k)\n",
    "    df['image'] = k.replace('images/', '')\n",
    "    # print(df['image'])\n",
    "    ground_truth_df = pd.concat([ground_truth_df, df], ignore_index=True)\n",
    "    \n",
    "ground_truth_df.shape"
   ]
  },
  {
   "cell_type": "code",
   "execution_count": 19,
   "metadata": {},
   "outputs": [
    {
     "data": {
      "text/plain": [
       "labels\n",
       "2    50\n",
       "0    27\n",
       "3    22\n",
       "1    17\n",
       "Name: count, dtype: int64"
      ]
     },
     "execution_count": 19,
     "metadata": {},
     "output_type": "execute_result"
    }
   ],
   "source": [
    "ground_truth_df['labels'].value_counts()"
   ]
  },
  {
   "cell_type": "markdown",
   "metadata": {},
   "source": [
    "## Sort DFs"
   ]
  },
  {
   "cell_type": "code",
   "execution_count": 20,
   "metadata": {},
   "outputs": [],
   "source": [
    "ground_truth_df = ground_truth_df.sort_values(by=['image', 'labels', 'y1', 'x1'])\n",
    "predictions_df = predictions_df.sort_values(by=['image', 'labels', 'y1', 'x1'])"
   ]
  },
  {
   "cell_type": "markdown",
   "metadata": {},
   "source": [
    "### Row Count"
   ]
  },
  {
   "cell_type": "code",
   "execution_count": 21,
   "metadata": {},
   "outputs": [],
   "source": [
    "ground_truth_df['row_count'] = ground_truth_df.groupby(['image', 'labels']).cumcount() + 1\n",
    "predictions_df['row_count'] = predictions_df.groupby(['image', 'labels']).cumcount() + 1"
   ]
  },
  {
   "cell_type": "code",
   "execution_count": 22,
   "metadata": {},
   "outputs": [
    {
     "data": {
      "text/html": [
       "<div>\n",
       "<style scoped>\n",
       "    .dataframe tbody tr th:only-of-type {\n",
       "        vertical-align: middle;\n",
       "    }\n",
       "\n",
       "    .dataframe tbody tr th {\n",
       "        vertical-align: top;\n",
       "    }\n",
       "\n",
       "    .dataframe thead th {\n",
       "        text-align: right;\n",
       "    }\n",
       "</style>\n",
       "<table border=\"1\" class=\"dataframe\">\n",
       "  <thead>\n",
       "    <tr style=\"text-align: right;\">\n",
       "      <th></th>\n",
       "      <th>x1</th>\n",
       "      <th>y1</th>\n",
       "      <th>x2</th>\n",
       "      <th>y2</th>\n",
       "      <th>labels</th>\n",
       "      <th>image</th>\n",
       "      <th>row_count</th>\n",
       "    </tr>\n",
       "  </thead>\n",
       "  <tbody>\n",
       "    <tr>\n",
       "      <th>2</th>\n",
       "      <td>281.503082</td>\n",
       "      <td>531.329590</td>\n",
       "      <td>359.037598</td>\n",
       "      <td>558.791687</td>\n",
       "      <td>1</td>\n",
       "      <td>11913d58-drawing_88.png</td>\n",
       "      <td>1</td>\n",
       "    </tr>\n",
       "    <tr>\n",
       "      <th>0</th>\n",
       "      <td>279.982239</td>\n",
       "      <td>533.085571</td>\n",
       "      <td>364.689423</td>\n",
       "      <td>560.504028</td>\n",
       "      <td>1</td>\n",
       "      <td>11913d58-drawing_88.png</td>\n",
       "      <td>2</td>\n",
       "    </tr>\n",
       "    <tr>\n",
       "      <th>3</th>\n",
       "      <td>627.046082</td>\n",
       "      <td>263.431274</td>\n",
       "      <td>713.595642</td>\n",
       "      <td>293.772980</td>\n",
       "      <td>2</td>\n",
       "      <td>11913d58-drawing_88.png</td>\n",
       "      <td>1</td>\n",
       "    </tr>\n",
       "    <tr>\n",
       "      <th>4</th>\n",
       "      <td>46.165363</td>\n",
       "      <td>68.864998</td>\n",
       "      <td>86.792572</td>\n",
       "      <td>104.516121</td>\n",
       "      <td>3</td>\n",
       "      <td>11913d58-drawing_88.png</td>\n",
       "      <td>1</td>\n",
       "    </tr>\n",
       "    <tr>\n",
       "      <th>1</th>\n",
       "      <td>36.104023</td>\n",
       "      <td>352.726593</td>\n",
       "      <td>78.724777</td>\n",
       "      <td>387.728058</td>\n",
       "      <td>3</td>\n",
       "      <td>11913d58-drawing_88.png</td>\n",
       "      <td>2</td>\n",
       "    </tr>\n",
       "    <tr>\n",
       "      <th>8</th>\n",
       "      <td>43.277252</td>\n",
       "      <td>510.151123</td>\n",
       "      <td>138.285721</td>\n",
       "      <td>537.268921</td>\n",
       "      <td>0</td>\n",
       "      <td>17bd5f92-drawing_106.png</td>\n",
       "      <td>1</td>\n",
       "    </tr>\n",
       "    <tr>\n",
       "      <th>7</th>\n",
       "      <td>613.102661</td>\n",
       "      <td>384.311493</td>\n",
       "      <td>706.184570</td>\n",
       "      <td>423.056732</td>\n",
       "      <td>1</td>\n",
       "      <td>17bd5f92-drawing_106.png</td>\n",
       "      <td>1</td>\n",
       "    </tr>\n",
       "    <tr>\n",
       "      <th>11</th>\n",
       "      <td>617.153931</td>\n",
       "      <td>384.510895</td>\n",
       "      <td>705.557861</td>\n",
       "      <td>419.803040</td>\n",
       "      <td>1</td>\n",
       "      <td>17bd5f92-drawing_106.png</td>\n",
       "      <td>2</td>\n",
       "    </tr>\n",
       "    <tr>\n",
       "      <th>5</th>\n",
       "      <td>610.900513</td>\n",
       "      <td>386.051361</td>\n",
       "      <td>697.938904</td>\n",
       "      <td>423.295135</td>\n",
       "      <td>1</td>\n",
       "      <td>17bd5f92-drawing_106.png</td>\n",
       "      <td>3</td>\n",
       "    </tr>\n",
       "    <tr>\n",
       "      <th>6</th>\n",
       "      <td>425.357208</td>\n",
       "      <td>105.869209</td>\n",
       "      <td>499.823517</td>\n",
       "      <td>138.254074</td>\n",
       "      <td>2</td>\n",
       "      <td>17bd5f92-drawing_106.png</td>\n",
       "      <td>1</td>\n",
       "    </tr>\n",
       "  </tbody>\n",
       "</table>\n",
       "</div>"
      ],
      "text/plain": [
       "            x1          y1          x2          y2  labels  \\\n",
       "2   281.503082  531.329590  359.037598  558.791687       1   \n",
       "0   279.982239  533.085571  364.689423  560.504028       1   \n",
       "3   627.046082  263.431274  713.595642  293.772980       2   \n",
       "4    46.165363   68.864998   86.792572  104.516121       3   \n",
       "1    36.104023  352.726593   78.724777  387.728058       3   \n",
       "8    43.277252  510.151123  138.285721  537.268921       0   \n",
       "7   613.102661  384.311493  706.184570  423.056732       1   \n",
       "11  617.153931  384.510895  705.557861  419.803040       1   \n",
       "5   610.900513  386.051361  697.938904  423.295135       1   \n",
       "6   425.357208  105.869209  499.823517  138.254074       2   \n",
       "\n",
       "                       image  row_count  \n",
       "2    11913d58-drawing_88.png          1  \n",
       "0    11913d58-drawing_88.png          2  \n",
       "3    11913d58-drawing_88.png          1  \n",
       "4    11913d58-drawing_88.png          1  \n",
       "1    11913d58-drawing_88.png          2  \n",
       "8   17bd5f92-drawing_106.png          1  \n",
       "7   17bd5f92-drawing_106.png          1  \n",
       "11  17bd5f92-drawing_106.png          2  \n",
       "5   17bd5f92-drawing_106.png          3  \n",
       "6   17bd5f92-drawing_106.png          1  "
      ]
     },
     "execution_count": 22,
     "metadata": {},
     "output_type": "execute_result"
    }
   ],
   "source": [
    "# ground_truth_df.head(10)\n",
    "predictions_df.head(10)"
   ]
  },
  {
   "cell_type": "markdown",
   "metadata": {},
   "source": [
    "## Merge The DataFrames for Comparison"
   ]
  },
  {
   "cell_type": "code",
   "execution_count": 23,
   "metadata": {},
   "outputs": [],
   "source": [
    "merged_df = pd.merge(ground_truth_df, predictions_df, on=['image', 'labels', 'row_count'], how='outer', suffixes=('_gt', '_pred'), validate='many_to_many')"
   ]
  },
  {
   "cell_type": "code",
   "execution_count": 24,
   "metadata": {},
   "outputs": [
    {
     "data": {
      "text/html": [
       "<div>\n",
       "<style scoped>\n",
       "    .dataframe tbody tr th:only-of-type {\n",
       "        vertical-align: middle;\n",
       "    }\n",
       "\n",
       "    .dataframe tbody tr th {\n",
       "        vertical-align: top;\n",
       "    }\n",
       "\n",
       "    .dataframe thead th {\n",
       "        text-align: right;\n",
       "    }\n",
       "</style>\n",
       "<table border=\"1\" class=\"dataframe\">\n",
       "  <thead>\n",
       "    <tr style=\"text-align: right;\">\n",
       "      <th></th>\n",
       "      <th>x1_gt</th>\n",
       "      <th>y1_gt</th>\n",
       "      <th>x2_gt</th>\n",
       "      <th>y2_gt</th>\n",
       "      <th>labels</th>\n",
       "      <th>image</th>\n",
       "      <th>row_count</th>\n",
       "      <th>x1_pred</th>\n",
       "      <th>y1_pred</th>\n",
       "      <th>x2_pred</th>\n",
       "      <th>y2_pred</th>\n",
       "    </tr>\n",
       "  </thead>\n",
       "  <tbody>\n",
       "    <tr>\n",
       "      <th>0</th>\n",
       "      <td>626.232558</td>\n",
       "      <td>409.581395</td>\n",
       "      <td>732.186047</td>\n",
       "      <td>429.348837</td>\n",
       "      <td>0</td>\n",
       "      <td>11913d58-drawing_88.png</td>\n",
       "      <td>1</td>\n",
       "      <td>NaN</td>\n",
       "      <td>NaN</td>\n",
       "      <td>NaN</td>\n",
       "      <td>NaN</td>\n",
       "    </tr>\n",
       "    <tr>\n",
       "      <th>1</th>\n",
       "      <td>279.116279</td>\n",
       "      <td>529.767442</td>\n",
       "      <td>363.720930</td>\n",
       "      <td>559.023256</td>\n",
       "      <td>1</td>\n",
       "      <td>11913d58-drawing_88.png</td>\n",
       "      <td>1</td>\n",
       "      <td>281.503082</td>\n",
       "      <td>531.329590</td>\n",
       "      <td>359.037598</td>\n",
       "      <td>558.791687</td>\n",
       "    </tr>\n",
       "    <tr>\n",
       "      <th>2</th>\n",
       "      <td>NaN</td>\n",
       "      <td>NaN</td>\n",
       "      <td>NaN</td>\n",
       "      <td>NaN</td>\n",
       "      <td>1</td>\n",
       "      <td>11913d58-drawing_88.png</td>\n",
       "      <td>2</td>\n",
       "      <td>279.982239</td>\n",
       "      <td>533.085571</td>\n",
       "      <td>364.689423</td>\n",
       "      <td>560.504028</td>\n",
       "    </tr>\n",
       "    <tr>\n",
       "      <th>3</th>\n",
       "      <td>626.232558</td>\n",
       "      <td>266.465116</td>\n",
       "      <td>713.209302</td>\n",
       "      <td>290.186047</td>\n",
       "      <td>2</td>\n",
       "      <td>11913d58-drawing_88.png</td>\n",
       "      <td>1</td>\n",
       "      <td>627.046082</td>\n",
       "      <td>263.431274</td>\n",
       "      <td>713.595642</td>\n",
       "      <td>293.772980</td>\n",
       "    </tr>\n",
       "    <tr>\n",
       "      <th>4</th>\n",
       "      <td>217.441860</td>\n",
       "      <td>518.697674</td>\n",
       "      <td>278.325581</td>\n",
       "      <td>542.418605</td>\n",
       "      <td>2</td>\n",
       "      <td>11913d58-drawing_88.png</td>\n",
       "      <td>2</td>\n",
       "      <td>NaN</td>\n",
       "      <td>NaN</td>\n",
       "      <td>NaN</td>\n",
       "      <td>NaN</td>\n",
       "    </tr>\n",
       "    <tr>\n",
       "      <th>5</th>\n",
       "      <td>46.651163</td>\n",
       "      <td>66.418605</td>\n",
       "      <td>83.813953</td>\n",
       "      <td>105.162791</td>\n",
       "      <td>3</td>\n",
       "      <td>11913d58-drawing_88.png</td>\n",
       "      <td>1</td>\n",
       "      <td>46.165363</td>\n",
       "      <td>68.864998</td>\n",
       "      <td>86.792572</td>\n",
       "      <td>104.516121</td>\n",
       "    </tr>\n",
       "    <tr>\n",
       "      <th>6</th>\n",
       "      <td>39.534884</td>\n",
       "      <td>351.069767</td>\n",
       "      <td>75.116279</td>\n",
       "      <td>389.813953</td>\n",
       "      <td>3</td>\n",
       "      <td>11913d58-drawing_88.png</td>\n",
       "      <td>2</td>\n",
       "      <td>36.104023</td>\n",
       "      <td>352.726593</td>\n",
       "      <td>78.724777</td>\n",
       "      <td>387.728058</td>\n",
       "    </tr>\n",
       "    <tr>\n",
       "      <th>7</th>\n",
       "      <td>46.651163</td>\n",
       "      <td>515.534884</td>\n",
       "      <td>136.790698</td>\n",
       "      <td>535.302326</td>\n",
       "      <td>0</td>\n",
       "      <td>17bd5f92-drawing_106.png</td>\n",
       "      <td>1</td>\n",
       "      <td>43.277252</td>\n",
       "      <td>510.151123</td>\n",
       "      <td>138.285721</td>\n",
       "      <td>537.268921</td>\n",
       "    </tr>\n",
       "    <tr>\n",
       "      <th>8</th>\n",
       "      <td>617.534884</td>\n",
       "      <td>386.651163</td>\n",
       "      <td>695.813953</td>\n",
       "      <td>419.860465</td>\n",
       "      <td>1</td>\n",
       "      <td>17bd5f92-drawing_106.png</td>\n",
       "      <td>1</td>\n",
       "      <td>613.102661</td>\n",
       "      <td>384.311493</td>\n",
       "      <td>706.184570</td>\n",
       "      <td>423.056732</td>\n",
       "    </tr>\n",
       "    <tr>\n",
       "      <th>9</th>\n",
       "      <td>NaN</td>\n",
       "      <td>NaN</td>\n",
       "      <td>NaN</td>\n",
       "      <td>NaN</td>\n",
       "      <td>1</td>\n",
       "      <td>17bd5f92-drawing_106.png</td>\n",
       "      <td>2</td>\n",
       "      <td>617.153931</td>\n",
       "      <td>384.510895</td>\n",
       "      <td>705.557861</td>\n",
       "      <td>419.803040</td>\n",
       "    </tr>\n",
       "    <tr>\n",
       "      <th>10</th>\n",
       "      <td>NaN</td>\n",
       "      <td>NaN</td>\n",
       "      <td>NaN</td>\n",
       "      <td>NaN</td>\n",
       "      <td>1</td>\n",
       "      <td>17bd5f92-drawing_106.png</td>\n",
       "      <td>3</td>\n",
       "      <td>610.900513</td>\n",
       "      <td>386.051361</td>\n",
       "      <td>697.938904</td>\n",
       "      <td>423.295135</td>\n",
       "    </tr>\n",
       "    <tr>\n",
       "      <th>11</th>\n",
       "      <td>426.976744</td>\n",
       "      <td>108.325581</td>\n",
       "      <td>498.139535</td>\n",
       "      <td>136.790698</td>\n",
       "      <td>2</td>\n",
       "      <td>17bd5f92-drawing_106.png</td>\n",
       "      <td>1</td>\n",
       "      <td>425.357208</td>\n",
       "      <td>105.869209</td>\n",
       "      <td>499.823517</td>\n",
       "      <td>138.254074</td>\n",
       "    </tr>\n",
       "  </tbody>\n",
       "</table>\n",
       "</div>"
      ],
      "text/plain": [
       "         x1_gt       y1_gt       x2_gt       y2_gt  labels  \\\n",
       "0   626.232558  409.581395  732.186047  429.348837       0   \n",
       "1   279.116279  529.767442  363.720930  559.023256       1   \n",
       "2          NaN         NaN         NaN         NaN       1   \n",
       "3   626.232558  266.465116  713.209302  290.186047       2   \n",
       "4   217.441860  518.697674  278.325581  542.418605       2   \n",
       "5    46.651163   66.418605   83.813953  105.162791       3   \n",
       "6    39.534884  351.069767   75.116279  389.813953       3   \n",
       "7    46.651163  515.534884  136.790698  535.302326       0   \n",
       "8   617.534884  386.651163  695.813953  419.860465       1   \n",
       "9          NaN         NaN         NaN         NaN       1   \n",
       "10         NaN         NaN         NaN         NaN       1   \n",
       "11  426.976744  108.325581  498.139535  136.790698       2   \n",
       "\n",
       "                       image  row_count     x1_pred     y1_pred     x2_pred  \\\n",
       "0    11913d58-drawing_88.png          1         NaN         NaN         NaN   \n",
       "1    11913d58-drawing_88.png          1  281.503082  531.329590  359.037598   \n",
       "2    11913d58-drawing_88.png          2  279.982239  533.085571  364.689423   \n",
       "3    11913d58-drawing_88.png          1  627.046082  263.431274  713.595642   \n",
       "4    11913d58-drawing_88.png          2         NaN         NaN         NaN   \n",
       "5    11913d58-drawing_88.png          1   46.165363   68.864998   86.792572   \n",
       "6    11913d58-drawing_88.png          2   36.104023  352.726593   78.724777   \n",
       "7   17bd5f92-drawing_106.png          1   43.277252  510.151123  138.285721   \n",
       "8   17bd5f92-drawing_106.png          1  613.102661  384.311493  706.184570   \n",
       "9   17bd5f92-drawing_106.png          2  617.153931  384.510895  705.557861   \n",
       "10  17bd5f92-drawing_106.png          3  610.900513  386.051361  697.938904   \n",
       "11  17bd5f92-drawing_106.png          1  425.357208  105.869209  499.823517   \n",
       "\n",
       "       y2_pred  \n",
       "0          NaN  \n",
       "1   558.791687  \n",
       "2   560.504028  \n",
       "3   293.772980  \n",
       "4          NaN  \n",
       "5   104.516121  \n",
       "6   387.728058  \n",
       "7   537.268921  \n",
       "8   423.056732  \n",
       "9   419.803040  \n",
       "10  423.295135  \n",
       "11  138.254074  "
      ]
     },
     "execution_count": 24,
     "metadata": {},
     "output_type": "execute_result"
    }
   ],
   "source": [
    "merged_df.head(12)"
   ]
  },
  {
   "cell_type": "markdown",
   "metadata": {},
   "source": [
    "## Calculate IOU"
   ]
  },
  {
   "cell_type": "code",
   "execution_count": 25,
   "metadata": {},
   "outputs": [],
   "source": [
    "def calculate_iou(box1, box2):\n",
    "    \"\"\"\n",
    "    Calculate the Intersection over Union (IoU) of two bounding boxes.\n",
    "    \n",
    "    Parameters:\n",
    "    - box1: (x1, y1, x2, y2) coordinates of the first bounding box\n",
    "    - box2: (x1, y1, x2, y2) coordinates of the second bounding box\n",
    "    \n",
    "    Returns:\n",
    "    - iou: Intersection over Union (IoU) value\n",
    "    \"\"\"\n",
    "    # Unpack the coordinates of the two boxes\n",
    "    x1_1, y1_1, x2_1, y2_1 = box1\n",
    "    x1_2, y1_2, x2_2, y2_2 = box2\n",
    "    \n",
    "    # Calculate the (x, y) coordinates of the intersection rectangle\n",
    "    xi1 = max(x1_1, x1_2)\n",
    "    yi1 = max(y1_1, y1_2)\n",
    "    xi2 = min(x2_1, x2_2)\n",
    "    yi2 = min(y2_1, y2_2)\n",
    "    \n",
    "    # Calculate the area of the intersection rectangle\n",
    "    inter_width = max(0, xi2 - xi1)\n",
    "    inter_height = max(0, yi2 - yi1)\n",
    "    inter_area = inter_width * inter_height\n",
    "    \n",
    "    # Calculate the area of both bounding boxes\n",
    "    box1_area = (x2_1 - x1_1) * (y2_1 - y1_1)\n",
    "    box2_area = (x2_2 - x1_2) * (y2_2 - y1_2)\n",
    "    \n",
    "    # Calculate the union area\n",
    "    union_area = box1_area + box2_area - inter_area\n",
    "    \n",
    "    # Calculate the IoU\n",
    "    iou = inter_area / union_area if union_area != 0 else 0\n",
    "    \n",
    "    return iou"
   ]
  },
  {
   "cell_type": "code",
   "execution_count": 26,
   "metadata": {},
   "outputs": [],
   "source": [
    "merged_df['iou'] = merged_df.apply(lambda x: calculate_iou((x['x1_gt'], x['y1_gt'], x['x2_gt'], x['y2_gt']), (x['x1_pred'], x['y1_pred'], x['x2_pred'], x['y2_pred'])), axis=1)"
   ]
  },
  {
   "cell_type": "markdown",
   "metadata": {},
   "source": [
    "## Calculate TP, FP, FN"
   ]
  },
  {
   "cell_type": "code",
   "execution_count": 27,
   "metadata": {},
   "outputs": [],
   "source": [
    "TP, FP, FN = 0, 0, 0\n",
    "merged_df['result'] = ''\n",
    "for i in range(merged_df.shape[0]):\n",
    "    if merged_df['iou'][i] > 0.6:\n",
    "        TP += 1\n",
    "        merged_df.loc[i, 'result'] = 'TP'\n",
    "        \n",
    "    elif merged_df['iou'][i] == 0:\n",
    "        FP += 1\n",
    "        merged_df.loc[i, 'result'] = 'FP'\n",
    "    \n",
    "    elif pd.isna(merged_df['iou'][i]):\n",
    "        if pd.isna(merged_df['x1_pred'][i]):\n",
    "            FN += 1\n",
    "            merged_df.loc[i, 'result'] = 'FN'\n",
    "        if pd.isna(merged_df['x1_gt'][i]):\n",
    "            FP += 1\n",
    "            merged_df.loc[i, 'result'] = 'FP'\n",
    "    \n",
    "    else: \n",
    "        FP += 1\n",
    "        merged_df.loc[i, 'result'] = 'FP'\n",
    "    "
   ]
  },
  {
   "cell_type": "code",
   "execution_count": 28,
   "metadata": {},
   "outputs": [
    {
     "name": "stdout",
     "output_type": "stream",
     "text": [
      "True Positive -  79\n",
      "False Positive -  45\n",
      "False Negative -  15\n"
     ]
    }
   ],
   "source": [
    "print(\"True Positive - \", TP)\n",
    "print(\"False Positive - \", FP)\n",
    "print(\"False Negative - \", FN)"
   ]
  },
  {
   "cell_type": "code",
   "execution_count": 29,
   "metadata": {},
   "outputs": [
    {
     "name": "stdout",
     "output_type": "stream",
     "text": [
      "Accuracy -  0.5683453237410072\n",
      "Precision -  0.6370967741935484\n",
      "Recall -  0.8404255319148937\n"
     ]
    }
   ],
   "source": [
    "print(\"Accuracy - \", TP/(TP+FP+FN))\n",
    "print(\"Precision - \", TP/(TP+FP))\n",
    "print(\"Recall - \", TP/(TP+FN))"
   ]
  },
  {
   "cell_type": "markdown",
   "metadata": {},
   "source": [
    "## Class Wise Accuracy"
   ]
  },
  {
   "cell_type": "markdown",
   "metadata": {},
   "source": [
    "### Bar Scale (1)"
   ]
  },
  {
   "cell_type": "code",
   "execution_count": 30,
   "metadata": {},
   "outputs": [
    {
     "data": {
      "text/plain": [
       "{0: 'bar-scale', 1: 'color-stamp', 2: 'detail-labels', 3: 'north-sign'}"
      ]
     },
     "execution_count": 30,
     "metadata": {},
     "output_type": "execute_result"
    }
   ],
   "source": [
    "id2label"
   ]
  },
  {
   "cell_type": "code",
   "execution_count": 31,
   "metadata": {},
   "outputs": [
    {
     "data": {
      "text/plain": [
       "result\n",
       "TP    13\n",
       "FN     8\n",
       "FP     8\n",
       "Name: count, dtype: int64"
      ]
     },
     "execution_count": 31,
     "metadata": {},
     "output_type": "execute_result"
    }
   ],
   "source": [
    "merged_df.loc[merged_df['labels']==0]['result'].value_counts()"
   ]
  },
  {
   "cell_type": "code",
   "execution_count": 32,
   "metadata": {},
   "outputs": [
    {
     "ename": "ValueError",
     "evalue": "too many values to unpack (expected 2)",
     "output_type": "error",
     "traceback": [
      "\u001b[1;31m---------------------------------------------------------------------------\u001b[0m",
      "\u001b[1;31mValueError\u001b[0m                                Traceback (most recent call last)",
      "Cell \u001b[1;32mIn[32], line 1\u001b[0m\n\u001b[1;32m----> 1\u001b[0m TP, FP \u001b[38;5;241m=\u001b[39m merged_df\u001b[38;5;241m.\u001b[39mloc[merged_df[\u001b[38;5;124m'\u001b[39m\u001b[38;5;124mlabels\u001b[39m\u001b[38;5;124m'\u001b[39m]\u001b[38;5;241m==\u001b[39m\u001b[38;5;241m0\u001b[39m][\u001b[38;5;124m'\u001b[39m\u001b[38;5;124mresult\u001b[39m\u001b[38;5;124m'\u001b[39m]\u001b[38;5;241m.\u001b[39mvalue_counts()\n\u001b[0;32m      2\u001b[0m FN \u001b[38;5;241m=\u001b[39m \u001b[38;5;241m0\u001b[39m\n\u001b[0;32m      3\u001b[0m \u001b[38;5;66;03m# TP, FN, FP = merged_df.loc[merged_df['labels']==1]['result'].value_counts()\u001b[39;00m\n",
      "\u001b[1;31mValueError\u001b[0m: too many values to unpack (expected 2)"
     ]
    }
   ],
   "source": [
    "TP, FP = merged_df.loc[merged_df['labels']==0]['result'].value_counts()\n",
    "FN = 0\n",
    "# TP, FN, FP = merged_df.loc[merged_df['labels']==1]['result'].value_counts()\n",
    "\n",
    "print(f\"Accuracy = {TP/(TP+FP+FN):.4f}\")\n",
    "print(f\"Precision = {TP/(TP+FP):.4f}\")\n",
    "print(f\"Recall = {TP/(TP+FN):.4f}\")"
   ]
  },
  {
   "cell_type": "markdown",
   "metadata": {},
   "source": [
    "### Color Stamp (2)"
   ]
  },
  {
   "cell_type": "code",
   "execution_count": null,
   "metadata": {},
   "outputs": [
    {
     "data": {
      "text/plain": [
       "result\n",
       "TP    17\n",
       "Name: count, dtype: int64"
      ]
     },
     "execution_count": 468,
     "metadata": {},
     "output_type": "execute_result"
    }
   ],
   "source": [
    "merged_df.loc[merged_df['labels']==1]['result'].value_counts()"
   ]
  },
  {
   "cell_type": "code",
   "execution_count": null,
   "metadata": {},
   "outputs": [
    {
     "name": "stdout",
     "output_type": "stream",
     "text": [
      "Accuracy = 1.0000\n",
      "Precision = 1.0000\n",
      "Recall = 1.0000\n"
     ]
    },
    {
     "name": "stderr",
     "output_type": "stream",
     "text": [
      "C:\\Users\\Chirantan_Degloorkar\\AppData\\Local\\Temp\\ipykernel_15412\\715305068.py:4: FutureWarning: Series.__getitem__ treating keys as positions is deprecated. In a future version, integer keys will always be treated as labels (consistent with DataFrame behavior). To access a value by position, use `ser.iloc[pos]`\n",
      "  print(f\"Accuracy = {(TP[0]/(TP[0]+FP+FN)):.4f}\")\n",
      "C:\\Users\\Chirantan_Degloorkar\\AppData\\Local\\Temp\\ipykernel_15412\\715305068.py:5: FutureWarning: Series.__getitem__ treating keys as positions is deprecated. In a future version, integer keys will always be treated as labels (consistent with DataFrame behavior). To access a value by position, use `ser.iloc[pos]`\n",
      "  print(f\"Precision = {TP[0]/(TP[0]+FP):.4f}\")\n",
      "C:\\Users\\Chirantan_Degloorkar\\AppData\\Local\\Temp\\ipykernel_15412\\715305068.py:6: FutureWarning: Series.__getitem__ treating keys as positions is deprecated. In a future version, integer keys will always be treated as labels (consistent with DataFrame behavior). To access a value by position, use `ser.iloc[pos]`\n",
      "  print(f\"Recall = {TP[0]/(TP[0]+FN):.4f}\")\n"
     ]
    }
   ],
   "source": [
    "TP = merged_df.loc[merged_df['labels']==1]['result'].value_counts()\n",
    "FP, FN = 0, 0\n",
    "\n",
    "print(f\"Accuracy = {(TP[0]/(TP[0]+FP+FN)):.4f}\")\n",
    "print(f\"Precision = {TP[0]/(TP[0]+FP):.4f}\")\n",
    "print(f\"Recall = {TP[0]/(TP[0]+FN):.4f}\")"
   ]
  },
  {
   "cell_type": "markdown",
   "metadata": {},
   "source": [
    "### Detail Labels (3)"
   ]
  },
  {
   "cell_type": "code",
   "execution_count": null,
   "metadata": {},
   "outputs": [
    {
     "name": "stdout",
     "output_type": "stream",
     "text": [
      "Accuracy = 0.7843\n",
      "Precision = 0.8163\n",
      "Recall = 0.9524\n"
     ]
    }
   ],
   "source": [
    "TP, FP, FN = merged_df.loc[merged_df['labels']==2]['result'].value_counts()\n",
    "# FN = 0\n",
    "\n",
    "print(f\"Accuracy = {TP/(TP+FP+FN):.4f}\")\n",
    "print(f\"Precision = {TP/(TP+FP):.4f}\")\n",
    "print(f\"Recall = {TP/(TP+FN):.4f}\")"
   ]
  },
  {
   "cell_type": "markdown",
   "metadata": {},
   "source": [
    "### North Sign (4)"
   ]
  },
  {
   "cell_type": "code",
   "execution_count": null,
   "metadata": {},
   "outputs": [
    {
     "data": {
      "text/plain": [
       "result\n",
       "TP    22\n",
       "Name: count, dtype: int64"
      ]
     },
     "execution_count": 477,
     "metadata": {},
     "output_type": "execute_result"
    }
   ],
   "source": [
    "merged_df.loc[merged_df['labels']==3]['result'].value_counts()"
   ]
  },
  {
   "cell_type": "code",
   "execution_count": null,
   "metadata": {},
   "outputs": [
    {
     "name": "stdout",
     "output_type": "stream",
     "text": [
      "Accuracy = 1.0000\n",
      "Precision = 1.0000\n",
      "Recall = 1.0000\n"
     ]
    },
    {
     "name": "stderr",
     "output_type": "stream",
     "text": [
      "C:\\Users\\Chirantan_Degloorkar\\AppData\\Local\\Temp\\ipykernel_15412\\902526925.py:4: FutureWarning: Series.__getitem__ treating keys as positions is deprecated. In a future version, integer keys will always be treated as labels (consistent with DataFrame behavior). To access a value by position, use `ser.iloc[pos]`\n",
      "  print(f\"Accuracy = {TP[0]/(TP[0]+FP+FN):.4f}\")\n",
      "C:\\Users\\Chirantan_Degloorkar\\AppData\\Local\\Temp\\ipykernel_15412\\902526925.py:5: FutureWarning: Series.__getitem__ treating keys as positions is deprecated. In a future version, integer keys will always be treated as labels (consistent with DataFrame behavior). To access a value by position, use `ser.iloc[pos]`\n",
      "  print(f\"Precision = {TP[0]/(TP[0]+FP):.4f}\")\n",
      "C:\\Users\\Chirantan_Degloorkar\\AppData\\Local\\Temp\\ipykernel_15412\\902526925.py:6: FutureWarning: Series.__getitem__ treating keys as positions is deprecated. In a future version, integer keys will always be treated as labels (consistent with DataFrame behavior). To access a value by position, use `ser.iloc[pos]`\n",
      "  print(f\"Recall = {TP[0]/(TP[0]+FN):.4f}\")\n"
     ]
    }
   ],
   "source": [
    "TP = merged_df.loc[merged_df['labels']==3]['result'].value_counts()\n",
    "FP, FN = 0, 0\n",
    "\n",
    "print(f\"Accuracy = {TP[0]/(TP[0]+FP+FN):.4f}\")\n",
    "print(f\"Precision = {TP[0]/(TP[0]+FP):.4f}\")\n",
    "print(f\"Recall = {TP[0]/(TP[0]+FN):.4f}\")"
   ]
  },
  {
   "cell_type": "markdown",
   "metadata": {},
   "source": [
    "## Missing Labels in the Image"
   ]
  },
  {
   "cell_type": "code",
   "execution_count": null,
   "metadata": {},
   "outputs": [
    {
     "data": {
      "text/html": [
       "<div>\n",
       "<style scoped>\n",
       "    .dataframe tbody tr th:only-of-type {\n",
       "        vertical-align: middle;\n",
       "    }\n",
       "\n",
       "    .dataframe tbody tr th {\n",
       "        vertical-align: top;\n",
       "    }\n",
       "\n",
       "    .dataframe thead th {\n",
       "        text-align: right;\n",
       "    }\n",
       "</style>\n",
       "<table border=\"1\" class=\"dataframe\">\n",
       "  <thead>\n",
       "    <tr style=\"text-align: right;\">\n",
       "      <th></th>\n",
       "      <th>image</th>\n",
       "      <th>labels</th>\n",
       "      <th>missing_labels</th>\n",
       "    </tr>\n",
       "  </thead>\n",
       "  <tbody>\n",
       "    <tr>\n",
       "      <th>0</th>\n",
       "      <td>11913d58-drawing_88.png</td>\n",
       "      <td>{0, 1, 2, 3}</td>\n",
       "      <td>{}</td>\n",
       "    </tr>\n",
       "    <tr>\n",
       "      <th>1</th>\n",
       "      <td>17bd5f92-drawing_106.png</td>\n",
       "      <td>{0, 1, 2, 3}</td>\n",
       "      <td>{}</td>\n",
       "    </tr>\n",
       "    <tr>\n",
       "      <th>2</th>\n",
       "      <td>2067578c-drawing_24.png</td>\n",
       "      <td>{0, 2, 3}</td>\n",
       "      <td>{1}</td>\n",
       "    </tr>\n",
       "    <tr>\n",
       "      <th>3</th>\n",
       "      <td>2466f98b-drawing_67.png</td>\n",
       "      <td>{0, 1, 2, 3}</td>\n",
       "      <td>{}</td>\n",
       "    </tr>\n",
       "    <tr>\n",
       "      <th>4</th>\n",
       "      <td>3108be30-drawing_43.png</td>\n",
       "      <td>{0, 1, 2, 3}</td>\n",
       "      <td>{}</td>\n",
       "    </tr>\n",
       "    <tr>\n",
       "      <th>5</th>\n",
       "      <td>449d473c-drawing_25.png</td>\n",
       "      <td>{0, 1, 2, 3}</td>\n",
       "      <td>{}</td>\n",
       "    </tr>\n",
       "    <tr>\n",
       "      <th>6</th>\n",
       "      <td>4fdca17b-drawing_7.png</td>\n",
       "      <td>{0, 1, 2, 3}</td>\n",
       "      <td>{}</td>\n",
       "    </tr>\n",
       "    <tr>\n",
       "      <th>7</th>\n",
       "      <td>5acab2e6-drawing_64.png</td>\n",
       "      <td>{0, 2, 3}</td>\n",
       "      <td>{1}</td>\n",
       "    </tr>\n",
       "    <tr>\n",
       "      <th>8</th>\n",
       "      <td>8318502d-drawing_15.png</td>\n",
       "      <td>{0, 1, 2, 3}</td>\n",
       "      <td>{}</td>\n",
       "    </tr>\n",
       "    <tr>\n",
       "      <th>9</th>\n",
       "      <td>92e4c80c-drawing_45.png</td>\n",
       "      <td>{0, 1, 2, 3}</td>\n",
       "      <td>{}</td>\n",
       "    </tr>\n",
       "    <tr>\n",
       "      <th>10</th>\n",
       "      <td>a01b4a37-drawing_168.png</td>\n",
       "      <td>{0, 1, 2, 3}</td>\n",
       "      <td>{}</td>\n",
       "    </tr>\n",
       "    <tr>\n",
       "      <th>11</th>\n",
       "      <td>a34b8e8d-drawing_44.png</td>\n",
       "      <td>{0, 1, 2, 3}</td>\n",
       "      <td>{}</td>\n",
       "    </tr>\n",
       "    <tr>\n",
       "      <th>12</th>\n",
       "      <td>a55f419c-drawing_48.png</td>\n",
       "      <td>{0, 1, 3}</td>\n",
       "      <td>{2}</td>\n",
       "    </tr>\n",
       "    <tr>\n",
       "      <th>13</th>\n",
       "      <td>af0c0b68-drawing_76.png</td>\n",
       "      <td>{0, 1, 2, 3}</td>\n",
       "      <td>{}</td>\n",
       "    </tr>\n",
       "    <tr>\n",
       "      <th>14</th>\n",
       "      <td>b6c7e8be-drawing_56.png</td>\n",
       "      <td>{0, 1, 2, 3}</td>\n",
       "      <td>{}</td>\n",
       "    </tr>\n",
       "    <tr>\n",
       "      <th>15</th>\n",
       "      <td>cc5b592c-drawing_113.png</td>\n",
       "      <td>{0, 2, 3}</td>\n",
       "      <td>{1}</td>\n",
       "    </tr>\n",
       "    <tr>\n",
       "      <th>16</th>\n",
       "      <td>e616d66b-drawing_123.png</td>\n",
       "      <td>{0, 1, 2, 3}</td>\n",
       "      <td>{}</td>\n",
       "    </tr>\n",
       "    <tr>\n",
       "      <th>17</th>\n",
       "      <td>eef413ab-drawing_22.png</td>\n",
       "      <td>{0, 1, 2, 3}</td>\n",
       "      <td>{}</td>\n",
       "    </tr>\n",
       "    <tr>\n",
       "      <th>18</th>\n",
       "      <td>f601361a-drawing_42.png</td>\n",
       "      <td>{0, 1, 2, 3}</td>\n",
       "      <td>{}</td>\n",
       "    </tr>\n",
       "  </tbody>\n",
       "</table>\n",
       "</div>"
      ],
      "text/plain": [
       "                       image        labels missing_labels\n",
       "0    11913d58-drawing_88.png  {0, 1, 2, 3}             {}\n",
       "1   17bd5f92-drawing_106.png  {0, 1, 2, 3}             {}\n",
       "2    2067578c-drawing_24.png     {0, 2, 3}            {1}\n",
       "3    2466f98b-drawing_67.png  {0, 1, 2, 3}             {}\n",
       "4    3108be30-drawing_43.png  {0, 1, 2, 3}             {}\n",
       "5    449d473c-drawing_25.png  {0, 1, 2, 3}             {}\n",
       "6     4fdca17b-drawing_7.png  {0, 1, 2, 3}             {}\n",
       "7    5acab2e6-drawing_64.png     {0, 2, 3}            {1}\n",
       "8    8318502d-drawing_15.png  {0, 1, 2, 3}             {}\n",
       "9    92e4c80c-drawing_45.png  {0, 1, 2, 3}             {}\n",
       "10  a01b4a37-drawing_168.png  {0, 1, 2, 3}             {}\n",
       "11   a34b8e8d-drawing_44.png  {0, 1, 2, 3}             {}\n",
       "12   a55f419c-drawing_48.png     {0, 1, 3}            {2}\n",
       "13   af0c0b68-drawing_76.png  {0, 1, 2, 3}             {}\n",
       "14   b6c7e8be-drawing_56.png  {0, 1, 2, 3}             {}\n",
       "15  cc5b592c-drawing_113.png     {0, 2, 3}            {1}\n",
       "16  e616d66b-drawing_123.png  {0, 1, 2, 3}             {}\n",
       "17   eef413ab-drawing_22.png  {0, 1, 2, 3}             {}\n",
       "18   f601361a-drawing_42.png  {0, 1, 2, 3}             {}"
      ]
     },
     "execution_count": 480,
     "metadata": {},
     "output_type": "execute_result"
    }
   ],
   "source": [
    "# predictions_df.groupby('image')['labels'].unique()\n",
    "labels_df = predictions_df.groupby('image')['labels'].apply(lambda x: set(x)).reset_index()\n",
    "\n",
    "all_labels = {0, 1, 2, 3}\n",
    "labels_df['missing_labels'] = labels_df['labels'].apply(lambda x: all_labels - x)\n",
    "\n",
    "labels_df"
   ]
  },
  {
   "cell_type": "markdown",
   "metadata": {},
   "source": [
    "## Data Information"
   ]
  },
  {
   "cell_type": "code",
   "execution_count": null,
   "metadata": {},
   "outputs": [
    {
     "name": "stdout",
     "output_type": "stream",
     "text": [
      "Number of Labels in Training Data - 116\n",
      "Bar Scale Count - 27\n",
      "Color Stamp Count - 17\n",
      "Detail Label Count - 50\n",
      "North Sign Count - 22\n"
     ]
    }
   ],
   "source": [
    "# Ground Truth\n",
    "print(f'Number of Labels in Training Data - {ground_truth_df.shape[0]}')\n",
    "print(f'Bar Scale Count - {ground_truth_df.loc[ground_truth_df[\"labels\"]==0].shape[0]}')\n",
    "print(f'Color Stamp Count - {ground_truth_df.loc[ground_truth_df[\"labels\"]==1].shape[0]}')\n",
    "print(f'Detail Label Count - {ground_truth_df.loc[ground_truth_df[\"labels\"]==2].shape[0]}')\n",
    "print(f'North Sign Count - {ground_truth_df.loc[ground_truth_df[\"labels\"]==3].shape[0]}')"
   ]
  },
  {
   "cell_type": "code",
   "execution_count": null,
   "metadata": {},
   "outputs": [
    {
     "name": "stdout",
     "output_type": "stream",
     "text": [
      "Number of Labels in Predictions - 116\n",
      "Bar Scale Count - 28\n",
      "Color Stamp Count - 17\n",
      "Detail Label Count - 49\n",
      "North Sign Count - 22\n"
     ]
    }
   ],
   "source": [
    "# Predictions\n",
    "print(f'Number of Labels in Predictions - {predictions_df.shape[0]}')\n",
    "print(f'Bar Scale Count - {predictions_df.loc[predictions_df[\"labels\"]==0].shape[0]}')\n",
    "print(f'Color Stamp Count - {predictions_df.loc[predictions_df[\"labels\"]==1].shape[0]}')\n",
    "print(f'Detail Label Count - {predictions_df.loc[predictions_df[\"labels\"]==2].shape[0]}')\n",
    "print(f'North Sign Count - {predictions_df.loc[predictions_df[\"labels\"]==3].shape[0]}')"
   ]
  },
  {
   "cell_type": "markdown",
   "metadata": {},
   "source": [
    "## Ground Truth & Predictions \n",
    "### Shape Comparison "
   ]
  },
  {
   "cell_type": "code",
   "execution_count": null,
   "metadata": {},
   "outputs": [
    {
     "data": {
      "text/plain": [
       "(116, 7)"
      ]
     },
     "execution_count": 483,
     "metadata": {},
     "output_type": "execute_result"
    }
   ],
   "source": [
    "ground_truth_df.shape"
   ]
  },
  {
   "cell_type": "code",
   "execution_count": null,
   "metadata": {},
   "outputs": [
    {
     "data": {
      "text/plain": [
       "(116, 7)"
      ]
     },
     "execution_count": 484,
     "metadata": {},
     "output_type": "execute_result"
    }
   ],
   "source": [
    "predictions_df.shape"
   ]
  },
  {
   "cell_type": "code",
   "execution_count": null,
   "metadata": {},
   "outputs": [
    {
     "data": {
      "text/plain": [
       "(118, 13)"
      ]
     },
     "execution_count": 485,
     "metadata": {},
     "output_type": "execute_result"
    }
   ],
   "source": [
    "merged_df.shape"
   ]
  },
  {
   "cell_type": "markdown",
   "metadata": {},
   "source": [
    "## Page-wise TP, FP, FN"
   ]
  },
  {
   "cell_type": "code",
   "execution_count": null,
   "metadata": {},
   "outputs": [
    {
     "data": {
      "text/html": [
       "<div>\n",
       "<style scoped>\n",
       "    .dataframe tbody tr th:only-of-type {\n",
       "        vertical-align: middle;\n",
       "    }\n",
       "\n",
       "    .dataframe tbody tr th {\n",
       "        vertical-align: top;\n",
       "    }\n",
       "\n",
       "    .dataframe thead th {\n",
       "        text-align: right;\n",
       "    }\n",
       "</style>\n",
       "<table border=\"1\" class=\"dataframe\">\n",
       "  <thead>\n",
       "    <tr style=\"text-align: right;\">\n",
       "      <th></th>\n",
       "      <th>x1_gt</th>\n",
       "      <th>y1_gt</th>\n",
       "      <th>x2_gt</th>\n",
       "      <th>y2_gt</th>\n",
       "      <th>labels</th>\n",
       "      <th>image</th>\n",
       "      <th>row_count</th>\n",
       "      <th>x1_pred</th>\n",
       "      <th>y1_pred</th>\n",
       "      <th>x2_pred</th>\n",
       "      <th>y2_pred</th>\n",
       "      <th>iou</th>\n",
       "      <th>result</th>\n",
       "    </tr>\n",
       "  </thead>\n",
       "  <tbody>\n",
       "    <tr>\n",
       "      <th>0</th>\n",
       "      <td>626.232558</td>\n",
       "      <td>409.581395</td>\n",
       "      <td>732.186047</td>\n",
       "      <td>429.348837</td>\n",
       "      <td>0</td>\n",
       "      <td>11913d58-drawing_88.png</td>\n",
       "      <td>1</td>\n",
       "      <td>626.598572</td>\n",
       "      <td>407.394806</td>\n",
       "      <td>735.464539</td>\n",
       "      <td>434.808777</td>\n",
       "      <td>0.697665</td>\n",
       "      <td>TP</td>\n",
       "    </tr>\n",
       "    <tr>\n",
       "      <th>1</th>\n",
       "      <td>279.116279</td>\n",
       "      <td>529.767442</td>\n",
       "      <td>363.720930</td>\n",
       "      <td>559.023256</td>\n",
       "      <td>1</td>\n",
       "      <td>11913d58-drawing_88.png</td>\n",
       "      <td>1</td>\n",
       "      <td>277.574066</td>\n",
       "      <td>530.063721</td>\n",
       "      <td>364.678162</td>\n",
       "      <td>561.884888</td>\n",
       "      <td>0.876035</td>\n",
       "      <td>TP</td>\n",
       "    </tr>\n",
       "    <tr>\n",
       "      <th>2</th>\n",
       "      <td>626.232558</td>\n",
       "      <td>266.465116</td>\n",
       "      <td>713.209302</td>\n",
       "      <td>290.186047</td>\n",
       "      <td>2</td>\n",
       "      <td>11913d58-drawing_88.png</td>\n",
       "      <td>1</td>\n",
       "      <td>626.650024</td>\n",
       "      <td>266.320312</td>\n",
       "      <td>716.786926</td>\n",
       "      <td>295.447113</td>\n",
       "      <td>0.779139</td>\n",
       "      <td>TP</td>\n",
       "    </tr>\n",
       "    <tr>\n",
       "      <th>3</th>\n",
       "      <td>217.441860</td>\n",
       "      <td>518.697674</td>\n",
       "      <td>278.325581</td>\n",
       "      <td>542.418605</td>\n",
       "      <td>2</td>\n",
       "      <td>11913d58-drawing_88.png</td>\n",
       "      <td>2</td>\n",
       "      <td>215.104141</td>\n",
       "      <td>517.599670</td>\n",
       "      <td>284.647095</td>\n",
       "      <td>546.666199</td>\n",
       "      <td>0.714474</td>\n",
       "      <td>TP</td>\n",
       "    </tr>\n",
       "    <tr>\n",
       "      <th>4</th>\n",
       "      <td>46.651163</td>\n",
       "      <td>66.418605</td>\n",
       "      <td>83.813953</td>\n",
       "      <td>105.162791</td>\n",
       "      <td>3</td>\n",
       "      <td>11913d58-drawing_88.png</td>\n",
       "      <td>1</td>\n",
       "      <td>46.887444</td>\n",
       "      <td>67.970680</td>\n",
       "      <td>84.399574</td>\n",
       "      <td>105.122253</td>\n",
       "      <td>0.938615</td>\n",
       "      <td>TP</td>\n",
       "    </tr>\n",
       "    <tr>\n",
       "      <th>...</th>\n",
       "      <td>...</td>\n",
       "      <td>...</td>\n",
       "      <td>...</td>\n",
       "      <td>...</td>\n",
       "      <td>...</td>\n",
       "      <td>...</td>\n",
       "      <td>...</td>\n",
       "      <td>...</td>\n",
       "      <td>...</td>\n",
       "      <td>...</td>\n",
       "      <td>...</td>\n",
       "      <td>...</td>\n",
       "      <td>...</td>\n",
       "    </tr>\n",
       "    <tr>\n",
       "      <th>113</th>\n",
       "      <td>223.767442</td>\n",
       "      <td>170.790698</td>\n",
       "      <td>275.953488</td>\n",
       "      <td>185.813953</td>\n",
       "      <td>2</td>\n",
       "      <td>f601361a-drawing_42.png</td>\n",
       "      <td>1</td>\n",
       "      <td>223.108826</td>\n",
       "      <td>169.652451</td>\n",
       "      <td>276.554596</td>\n",
       "      <td>189.965347</td>\n",
       "      <td>0.722160</td>\n",
       "      <td>TP</td>\n",
       "    </tr>\n",
       "    <tr>\n",
       "      <th>114</th>\n",
       "      <td>596.976744</td>\n",
       "      <td>180.279070</td>\n",
       "      <td>642.046512</td>\n",
       "      <td>195.302326</td>\n",
       "      <td>2</td>\n",
       "      <td>f601361a-drawing_42.png</td>\n",
       "      <td>2</td>\n",
       "      <td>595.494690</td>\n",
       "      <td>178.782028</td>\n",
       "      <td>643.956848</td>\n",
       "      <td>197.251953</td>\n",
       "      <td>0.756452</td>\n",
       "      <td>TP</td>\n",
       "    </tr>\n",
       "    <tr>\n",
       "      <th>115</th>\n",
       "      <td>242.744186</td>\n",
       "      <td>242.744186</td>\n",
       "      <td>294.139535</td>\n",
       "      <td>258.558140</td>\n",
       "      <td>2</td>\n",
       "      <td>f601361a-drawing_42.png</td>\n",
       "      <td>3</td>\n",
       "      <td>246.576401</td>\n",
       "      <td>244.471344</td>\n",
       "      <td>296.188232</td>\n",
       "      <td>259.973083</td>\n",
       "      <td>0.734807</td>\n",
       "      <td>TP</td>\n",
       "    </tr>\n",
       "    <tr>\n",
       "      <th>116</th>\n",
       "      <td>232.465116</td>\n",
       "      <td>408.000000</td>\n",
       "      <td>268.046512</td>\n",
       "      <td>423.813953</td>\n",
       "      <td>2</td>\n",
       "      <td>f601361a-drawing_42.png</td>\n",
       "      <td>4</td>\n",
       "      <td>228.863617</td>\n",
       "      <td>407.815247</td>\n",
       "      <td>272.935669</td>\n",
       "      <td>428.410400</td>\n",
       "      <td>0.619919</td>\n",
       "      <td>TP</td>\n",
       "    </tr>\n",
       "    <tr>\n",
       "      <th>117</th>\n",
       "      <td>46.651163</td>\n",
       "      <td>86.186047</td>\n",
       "      <td>85.395349</td>\n",
       "      <td>125.720930</td>\n",
       "      <td>3</td>\n",
       "      <td>f601361a-drawing_42.png</td>\n",
       "      <td>1</td>\n",
       "      <td>47.312401</td>\n",
       "      <td>90.847496</td>\n",
       "      <td>88.912445</td>\n",
       "      <td>126.554466</td>\n",
       "      <td>0.786278</td>\n",
       "      <td>TP</td>\n",
       "    </tr>\n",
       "  </tbody>\n",
       "</table>\n",
       "<p>118 rows × 13 columns</p>\n",
       "</div>"
      ],
      "text/plain": [
       "          x1_gt       y1_gt       x2_gt       y2_gt  labels  \\\n",
       "0    626.232558  409.581395  732.186047  429.348837       0   \n",
       "1    279.116279  529.767442  363.720930  559.023256       1   \n",
       "2    626.232558  266.465116  713.209302  290.186047       2   \n",
       "3    217.441860  518.697674  278.325581  542.418605       2   \n",
       "4     46.651163   66.418605   83.813953  105.162791       3   \n",
       "..          ...         ...         ...         ...     ...   \n",
       "113  223.767442  170.790698  275.953488  185.813953       2   \n",
       "114  596.976744  180.279070  642.046512  195.302326       2   \n",
       "115  242.744186  242.744186  294.139535  258.558140       2   \n",
       "116  232.465116  408.000000  268.046512  423.813953       2   \n",
       "117   46.651163   86.186047   85.395349  125.720930       3   \n",
       "\n",
       "                       image  row_count     x1_pred     y1_pred     x2_pred  \\\n",
       "0    11913d58-drawing_88.png          1  626.598572  407.394806  735.464539   \n",
       "1    11913d58-drawing_88.png          1  277.574066  530.063721  364.678162   \n",
       "2    11913d58-drawing_88.png          1  626.650024  266.320312  716.786926   \n",
       "3    11913d58-drawing_88.png          2  215.104141  517.599670  284.647095   \n",
       "4    11913d58-drawing_88.png          1   46.887444   67.970680   84.399574   \n",
       "..                       ...        ...         ...         ...         ...   \n",
       "113  f601361a-drawing_42.png          1  223.108826  169.652451  276.554596   \n",
       "114  f601361a-drawing_42.png          2  595.494690  178.782028  643.956848   \n",
       "115  f601361a-drawing_42.png          3  246.576401  244.471344  296.188232   \n",
       "116  f601361a-drawing_42.png          4  228.863617  407.815247  272.935669   \n",
       "117  f601361a-drawing_42.png          1   47.312401   90.847496   88.912445   \n",
       "\n",
       "        y2_pred       iou result  \n",
       "0    434.808777  0.697665     TP  \n",
       "1    561.884888  0.876035     TP  \n",
       "2    295.447113  0.779139     TP  \n",
       "3    546.666199  0.714474     TP  \n",
       "4    105.122253  0.938615     TP  \n",
       "..          ...       ...    ...  \n",
       "113  189.965347  0.722160     TP  \n",
       "114  197.251953  0.756452     TP  \n",
       "115  259.973083  0.734807     TP  \n",
       "116  428.410400  0.619919     TP  \n",
       "117  126.554466  0.786278     TP  \n",
       "\n",
       "[118 rows x 13 columns]"
      ]
     },
     "execution_count": 486,
     "metadata": {},
     "output_type": "execute_result"
    }
   ],
   "source": [
    "# pd.merge(ground_truth_df, predictions_df, on=['image'], how='outer', suffixes=('_gt', '_pred'))\n",
    "merged_df"
   ]
  },
  {
   "cell_type": "code",
   "execution_count": null,
   "metadata": {},
   "outputs": [],
   "source": [
    "image_analysis_df = pd.DataFrame()\n",
    "image_analysis_df['image'] = merged_df['image'].unique()\n",
    "image_analysis_df['TP'] = merged_df.groupby('image')['result'].apply(lambda x: x.value_counts().get('TP', 0)).values\n",
    "image_analysis_df['FP'] = merged_df.groupby('image')['result'].apply(lambda x: x.value_counts().get('FP', 0)).values\n",
    "image_analysis_df['FN'] = merged_df.groupby('image')['result'].apply(lambda x: x.value_counts().get('FN', 0)).values"
   ]
  },
  {
   "cell_type": "code",
   "execution_count": 33,
   "metadata": {},
   "outputs": [
    {
     "ename": "NameError",
     "evalue": "name 'image_analysis_df' is not defined",
     "output_type": "error",
     "traceback": [
      "\u001b[1;31m---------------------------------------------------------------------------\u001b[0m",
      "\u001b[1;31mNameError\u001b[0m                                 Traceback (most recent call last)",
      "Cell \u001b[1;32mIn[33], line 1\u001b[0m\n\u001b[1;32m----> 1\u001b[0m \u001b[43mimage_analysis_df\u001b[49m\u001b[38;5;241m.\u001b[39msort_values(by\u001b[38;5;241m=\u001b[39m[\u001b[38;5;124m'\u001b[39m\u001b[38;5;124mFP\u001b[39m\u001b[38;5;124m'\u001b[39m, \u001b[38;5;124m'\u001b[39m\u001b[38;5;124mFN\u001b[39m\u001b[38;5;124m'\u001b[39m], ascending\u001b[38;5;241m=\u001b[39m\u001b[38;5;28;01mFalse\u001b[39;00m)\n",
      "\u001b[1;31mNameError\u001b[0m: name 'image_analysis_df' is not defined"
     ]
    }
   ],
   "source": [
    "image_analysis_df.sort_values(by=['FP', 'FN'], ascending=False)"
   ]
  },
  {
   "cell_type": "markdown",
   "metadata": {},
   "source": [
    "## Final Testing"
   ]
  },
  {
   "cell_type": "code",
   "execution_count": 34,
   "metadata": {},
   "outputs": [],
   "source": [
    "image_data_actual = ground_truth['images/11913d58-drawing_88.png']\n",
    "image_data_predicted = results['images\\\\11913d58-drawing_88.png']"
   ]
  },
  {
   "cell_type": "code",
   "execution_count": 35,
   "metadata": {},
   "outputs": [
    {
     "name": "stdout",
     "output_type": "stream",
     "text": [
      "Actual Label - 3, index - 0\n",
      "Predicted Label - 3, index - 1\n",
      "True Positive\n",
      "Actual Label - 3, index - 1\n",
      "Predicted Label - 3, index - 4\n",
      "True Positive\n",
      "Actual Label - 1, index - 2\n",
      "Predicted Label - 1, index - 0\n",
      "True Positive\n",
      "Actual Label - 1, index - 2\n",
      "Predicted Label - 1, index - 2\n",
      "True Positive\n",
      "Actual Label - 2, index - 5\n",
      "Predicted Label - 2, index - 3\n",
      "True Positive\n"
     ]
    }
   ],
   "source": [
    "for i in range(len(image_data_actual['labels'])):\n",
    "    for j in range(len(image_data_predicted['labels'])):\n",
    "        if calculate_iou(image_data_actual['boxes'][i], image_data_predicted['boxes'][j]) > 0.6:\n",
    "            if image_data_actual['labels'][i] == image_data_predicted['labels'][j]:\n",
    "                print(f'Actual Label - {image_data_actual[\"labels\"][i]}, index - {i}')\n",
    "                print(f'Predicted Label - {image_data_predicted[\"labels\"][j]}, index - {j}')\n",
    "                print(\"True Positive\")\n",
    "            elif image_data_actual['labels'][i] != image_data_predicted['labels'][j]:\n",
    "                print(f'Actual Label - {image_data_actual[\"labels\"][i]}, index - {i}')\n",
    "                print(f'Predicted Label - {image_data_predicted[\"labels\"][j]}, index - {j}')\n",
    "                print(\"False Positive\")"
   ]
  },
  {
   "cell_type": "code",
   "execution_count": 36,
   "metadata": {},
   "outputs": [],
   "source": [
    "def final_result(image, ground_truth, results):\n",
    "    TP, FP, FN = 0, 0, 0\n",
    "\n",
    "    result_dict = []\n",
    "    for i in range(len(ground_truth[f'images/{image}']['labels'])):\n",
    "        label = ground_truth[f'images/{image}']['labels'][i]\n",
    "        # label = 2 \n",
    "        match = False\n",
    "        for j in range(len(results[f'images\\\\{image}']['labels'])):\n",
    "            pred_label = results[f'images\\\\{image}']['labels'][j].numpy()\n",
    "            iou = calculate_iou(ground_truth[f'images/{image}']['boxes'][i], results[f'images\\\\{image}']['boxes'][j].numpy())\n",
    "            if iou > 0.6:\n",
    "                if pred_label == label:\n",
    "                    result_dict.append({\n",
    "                        'image': image,\n",
    "                        'label': label, \n",
    "                        'ground_truth': ground_truth[f'images/{image}']['boxes'][i],\n",
    "                        'prediction': results[f'images\\\\{image}']['boxes'][j].numpy(),\n",
    "                        'iou': iou, \n",
    "                        'result': 'TP',                                      \n",
    "                    })\n",
    "                    # TP = TP + 1\n",
    "                    match = True\n",
    "                    continue\n",
    "                elif pred_label != label:\n",
    "                    result_dict.append({\n",
    "                        'image': image,\n",
    "                        'label': pred_label, \n",
    "                        'ground_truth': ground_truth[f'images/{image}']['boxes'][i],\n",
    "                        'prediction': results[f'images\\\\{image}']['boxes'][j].numpy(),\n",
    "                        'iou': iou, \n",
    "                        'result': 'FP',                \n",
    "                    })\n",
    "                    continue\n",
    "            \n",
    "        if match == False:\n",
    "            result_dict.append({\n",
    "                'image': image,\n",
    "                'label': label, \n",
    "                'ground_truth': ground_truth[f'images/{image}']['boxes'][i],\n",
    "                'prediction': [],\n",
    "                'iou': 0, \n",
    "                'result': 'FN',                \n",
    "            })\n",
    "    return result_dict\n",
    "                    "
   ]
  },
  {
   "cell_type": "code",
   "execution_count": 37,
   "metadata": {},
   "outputs": [],
   "source": [
    "result_dict = final_result('eef413ab-drawing_22.png', ground_truth, results)\n",
    "# pd.DataFrame(result_dict)"
   ]
  },
  {
   "cell_type": "code",
   "execution_count": 38,
   "metadata": {},
   "outputs": [
    {
     "data": {
      "text/plain": [
       "{'images\\\\11913d58-drawing_88.png': {'scores': tensor([0.6592, 0.7146, 0.7473, 0.8986, 0.9024]),\n",
       "  'labels': tensor([1, 3, 1, 2, 3]),\n",
       "  'boxes': tensor([[279.9822, 533.0856, 364.6894, 560.5040],\n",
       "          [ 36.1040, 352.7266,  78.7248, 387.7281],\n",
       "          [281.5031, 531.3296, 359.0376, 558.7917],\n",
       "          [627.0461, 263.4313, 713.5956, 293.7730],\n",
       "          [ 46.1654,  68.8650,  86.7926, 104.5161]])},\n",
       " 'images\\\\17bd5f92-drawing_106.png': {'scores': tensor([0.6268, 0.8774, 0.8912, 0.7898, 0.9091, 0.8337, 0.7293, 0.6111]),\n",
       "  'labels': tensor([1, 2, 1, 0, 2, 2, 1, 3]),\n",
       "  'boxes': tensor([[610.9005, 386.0514, 697.9389, 423.2951],\n",
       "          [425.3572, 105.8692, 499.8235, 138.2541],\n",
       "          [613.1027, 384.3115, 706.1846, 423.0567],\n",
       "          [ 43.2773, 510.1511, 138.2857, 537.2689],\n",
       "          [427.0192, 275.1875, 534.4046, 305.8016],\n",
       "          [ 73.6709, 258.9998, 171.9169, 287.2045],\n",
       "          [617.1539, 384.5109, 705.5579, 419.8030],\n",
       "          [592.7847,  92.5162, 632.7473, 127.0305]])},\n",
       " 'images\\\\2067578c-drawing_24.png': {'scores': tensor([0.6468, 0.7648, 0.9160, 0.7664]),\n",
       "  'labels': tensor([2, 0, 3, 2]),\n",
       "  'boxes': tensor([[421.1970, 461.1405, 498.7833, 488.5104],\n",
       "          [ 45.3896, 523.4199, 127.6047, 549.7770],\n",
       "          [ 52.3716,  95.6501,  94.0784, 131.4561],\n",
       "          [104.9196, 415.3103, 175.3447, 443.9422]])},\n",
       " 'images\\\\2466f98b-drawing_67.png': {'scores': tensor([0.7911, 0.5808, 0.5315, 0.8688, 0.5167, 0.7099, 0.7933, 0.9237, 0.6515,\n",
       "          0.8885, 0.5149, 0.8365]),\n",
       "  'labels': tensor([0, 3, 1, 2, 0, 0, 0, 2, 0, 1, 0, 2]),\n",
       "  'boxes': tensor([[ 33.1182, 527.3895, 128.3521, 550.5692],\n",
       "          [109.5759, 390.0928, 147.5480, 424.3167],\n",
       "          [577.7247, 442.8359, 677.8525, 480.6087],\n",
       "          [405.6052,  71.4743, 465.5333,  92.1370],\n",
       "          [136.1954, 496.2662, 229.8680, 519.7648],\n",
       "          [ 29.7160, 495.1523, 125.7199, 514.6844],\n",
       "          [ 31.9192, 503.6344, 128.2854, 529.2912],\n",
       "          [212.7388, 283.7262, 266.9413, 302.2391],\n",
       "          [138.7039, 518.7074, 233.2483, 547.2214],\n",
       "          [582.8683, 440.4635, 673.4452, 477.7568],\n",
       "          [142.6919, 526.7473, 230.3236, 550.0272],\n",
       "          [656.6653, 256.2590, 705.7302, 274.0555]])},\n",
       " 'images\\\\3108be30-drawing_43.png': {'scores': tensor([0.7843, 0.7439, 0.8755, 0.7098]),\n",
       "  'labels': tensor([1, 0, 2, 3]),\n",
       "  'boxes': tensor([[ 495.9666,  760.1583,  606.0623,  802.8649],\n",
       "          [  74.3140,  773.4740,  172.8261,  799.1815],\n",
       "          [ 932.6591,  256.5777, 1064.4967,  302.3965],\n",
       "          [ 111.5065,  465.9920,  154.1840,  503.8045]])},\n",
       " 'images\\\\449d473c-drawing_25.png': {'scores': tensor([0.8972, 0.8395, 0.8158, 0.5955, 0.7416, 0.6169, 0.8804, 0.9021, 0.8376,\n",
       "          0.9415, 0.8200, 0.6516]),\n",
       "  'labels': tensor([2, 1, 2, 1, 2, 1, 2, 3, 0, 2, 2, 3]),\n",
       "  'boxes': tensor([[466.5242, 186.5284, 512.7300, 207.3598],\n",
       "          [445.8943, 528.7770, 536.0016, 562.5596],\n",
       "          [228.0704, 422.6724, 269.6458, 441.9947],\n",
       "          [446.4861, 526.9336, 544.6381, 559.8228],\n",
       "          [ 60.3720, 380.4866, 112.0917, 399.7294],\n",
       "          [446.0544, 528.3256, 542.8678, 561.6661],\n",
       "          [105.3110, 297.6005, 177.4022, 317.5043],\n",
       "          [ 41.2238,  66.8008,  81.3265, 100.3169],\n",
       "          [ 42.5737, 525.1515, 150.3552, 549.3046],\n",
       "          [283.4174, 279.5564, 319.2733, 294.1689],\n",
       "          [669.5461, 239.1593, 718.0100, 258.3310],\n",
       "          [656.9100,  88.4198, 697.8619, 114.2858]])},\n",
       " 'images\\\\4fdca17b-drawing_7.png': {'scores': tensor([0.9058, 0.8952]),\n",
       "  'labels': tensor([3, 1]),\n",
       "  'boxes': tensor([[112.7532, 139.3535, 152.9180, 175.2674],\n",
       "          [544.6071, 369.4698, 640.2698, 407.9544]])},\n",
       " 'images\\\\5acab2e6-drawing_64.png': {'scores': tensor([0.9260, 0.8200, 0.8964, 0.9056, 0.9299]),\n",
       "  'labels': tensor([2, 0, 2, 3, 2]),\n",
       "  'boxes': tensor([[220.3058, 312.6222, 297.8191, 341.1812],\n",
       "          [ 39.4753, 526.0168, 134.1903, 550.9765],\n",
       "          [625.6024, 245.5478, 712.9052, 276.7248],\n",
       "          [ 58.2823, 175.3190, 101.7585, 212.7884],\n",
       "          [224.0202, 167.4958, 301.2832, 198.9284]])},\n",
       " 'images\\\\8318502d-drawing_15.png': {'scores': tensor([0.7858, 0.9064, 0.5634, 0.7124, 0.8783]),\n",
       "  'labels': tensor([0, 2, 2, 2, 1]),\n",
       "  'boxes': tensor([[ 41.4792, 529.2144, 121.7092, 554.8033],\n",
       "          [218.0139, 142.2050, 293.5973, 167.7309],\n",
       "          [123.9338, 450.7780, 211.1075, 475.2043],\n",
       "          [385.1912, 475.2970, 444.0784, 501.8607],\n",
       "          [610.1096, 369.8775, 698.7758, 407.5056]])},\n",
       " 'images\\\\92e4c80c-drawing_45.png': {'scores': tensor([0.8545, 0.8189, 0.6526, 0.8270, 0.9007, 0.7989, 0.8973, 0.6481, 0.7930]),\n",
       "  'labels': tensor([2, 1, 2, 2, 3, 0, 2, 1, 2]),\n",
       "  'boxes': tensor([[615.8112, 289.6906, 669.4551, 307.8438],\n",
       "          [640.4713, 463.6532, 726.6011, 499.3409],\n",
       "          [ 75.2279, 426.4014, 130.2394, 446.9453],\n",
       "          [267.3851, 399.3936, 307.8880, 417.0834],\n",
       "          [ 81.8166,  80.4790, 124.3607, 116.2155],\n",
       "          [ 59.6805, 517.5699, 151.0388, 544.0173],\n",
       "          [241.3383, 167.0189, 293.9963, 186.1370],\n",
       "          [635.5107, 464.7567, 733.1154, 500.7916],\n",
       "          [606.9720, 150.7872, 671.4958, 178.5994]])},\n",
       " 'images\\\\a01b4a37-drawing_168.png': {'scores': tensor([0.8572, 0.7925, 0.6632, 0.6290, 0.8935, 0.7480]),\n",
       "  'labels': tensor([2, 3, 1, 2, 1, 3]),\n",
       "  'boxes': tensor([[391.9184, 426.8549, 463.8153, 458.7874],\n",
       "          [121.5590,  70.6882, 159.8349, 106.7945],\n",
       "          [525.3280, 429.8479, 572.8988, 462.5637],\n",
       "          [107.2121, 529.1078, 223.3086, 555.5528],\n",
       "          [456.5106, 514.1971, 545.8912, 553.3231],\n",
       "          [118.9044,  65.8301, 159.4378, 103.4853]])},\n",
       " 'images\\\\a34b8e8d-drawing_44.png': {'scores': tensor([0.8153, 0.6849, 0.8796, 0.5390, 0.8781]),\n",
       "  'labels': tensor([3, 0, 2, 0, 1]),\n",
       "  'boxes': tensor([[125.1271,  77.4247, 162.8917, 114.7692],\n",
       "          [ 76.0537, 636.1852, 181.9989, 664.4423],\n",
       "          [104.0036, 462.3990, 209.4950, 493.8746],\n",
       "          [ 84.2905, 620.8396, 185.4824, 651.0305],\n",
       "          [455.6438, 530.5308, 543.0664, 571.3514]])},\n",
       " 'images\\\\a55f419c-drawing_48.png': {'scores': tensor([0.6331, 0.7099, 0.9089, 0.8083]),\n",
       "  'labels': tensor([1, 1, 3, 0]),\n",
       "  'boxes': tensor([[240.2075, 519.3628, 334.7971, 550.8837],\n",
       "          [243.4298, 517.9758, 332.2980, 550.7341],\n",
       "          [ 67.4200,  71.8630, 108.5638, 107.0525],\n",
       "          [ 57.3107, 506.7698, 168.5778, 533.1003]])},\n",
       " 'images\\\\af0c0b68-drawing_76.png': {'scores': tensor([0.8500, 0.8414, 0.8736, 0.6449, 0.6810, 0.8469, 0.8901, 0.9310, 0.7950]),\n",
       "  'labels': tensor([0, 2, 2, 3, 1, 2, 2, 2, 2]),\n",
       "  'boxes': tensor([[ 41.2596, 515.7859, 152.2947, 543.0649],\n",
       "          [609.1934, 127.3623, 681.5204, 156.4816],\n",
       "          [609.2922, 234.9408, 682.6346, 262.6232],\n",
       "          [ 46.2684, 370.6827,  86.3714, 406.7830],\n",
       "          [630.6519, 319.3369, 726.4982, 353.3592],\n",
       "          [188.7193, 120.1909, 267.3869, 150.0098],\n",
       "          [122.2614, 327.7671, 199.4312, 357.2028],\n",
       "          [386.5364, 228.5937, 483.5707, 254.6749],\n",
       "          [476.1321, 371.5005, 569.3243, 402.4577]])},\n",
       " 'images\\\\b6c7e8be-drawing_56.png': {'scores': tensor([0.8699, 0.8193, 0.6871, 0.7476, 0.8921, 0.9154, 0.8080, 0.7551, 0.6500]),\n",
       "  'labels': tensor([1, 0, 0, 1, 2, 3, 2, 1, 3]),\n",
       "  'boxes': tensor([[601.2913, 461.5716, 696.3491, 498.9963],\n",
       "          [ 30.0731, 517.5073, 121.3140, 541.0609],\n",
       "          [129.1582, 516.7014, 217.6869, 541.0517],\n",
       "          [600.6412, 463.1931, 688.7206, 497.1708],\n",
       "          [466.7905, 186.5446, 511.7022, 207.2898],\n",
       "          [ 53.2172, 133.7227,  95.3779, 168.0217],\n",
       "          [669.1036, 239.1673, 718.3331, 258.2645],\n",
       "          [599.5663, 462.9589, 690.8582, 497.3897],\n",
       "          [657.2739,  87.2658, 698.5128, 113.4921]])},\n",
       " 'images\\\\cc5b592c-drawing_113.png': {'scores': tensor([0.5979, 0.8156, 0.8746, 0.9320, 0.7733]),\n",
       "  'labels': tensor([2, 0, 2, 2, 3]),\n",
       "  'boxes': tensor([[231.9076, 505.7350, 307.8941, 536.5483],\n",
       "          [ 58.1072, 513.6652, 169.0469, 539.1785],\n",
       "          [627.4944, 308.3796, 714.1126, 339.3048],\n",
       "          [351.0883, 166.0155, 454.3091, 195.5217],\n",
       "          [137.0960, 266.0983, 172.5597, 303.0832]])},\n",
       " 'images\\\\e616d66b-drawing_123.png': {'scores': tensor([0.7588, 0.8918, 0.6629, 0.5859, 0.9222]),\n",
       "  'labels': tensor([1, 2, 1, 2, 3]),\n",
       "  'boxes': tensor([[264.5186, 532.3815, 344.9354, 560.0818],\n",
       "          [626.6616, 263.9029, 713.1962, 293.4212],\n",
       "          [236.4636, 531.2041, 339.0985, 560.8141],\n",
       "          [479.1969, 408.3105, 597.4529, 433.9652],\n",
       "          [ 51.6852, 142.6038,  91.5880, 177.6512]])},\n",
       " 'images\\\\eef413ab-drawing_22.png': {'scores': tensor([0.5799, 0.7836, 0.5811, 0.8749, 0.8867, 0.9114]),\n",
       "  'labels': tensor([1, 3, 1, 2, 2, 1]),\n",
       "  'boxes': tensor([[545.5427, 376.3238, 642.7364, 413.9041],\n",
       "          [668.3953,  82.3210, 709.0212, 116.5733],\n",
       "          [548.2331, 380.9688, 643.3822, 417.7948],\n",
       "          [190.7714, 120.8497, 268.1950, 150.0106],\n",
       "          [123.9442, 328.4250, 198.8235, 357.2540],\n",
       "          [547.6686, 380.2296, 648.8983, 417.4891]])},\n",
       " 'images\\\\f601361a-drawing_42.png': {'scores': tensor([0.8379, 0.8301, 0.6383, 0.8366, 0.9262, 0.8630, 0.9165, 0.8334, 0.8004]),\n",
       "  'labels': tensor([1, 2, 1, 1, 2, 2, 3, 0, 2]),\n",
       "  'boxes': tensor([[435.7643, 524.9794, 524.8266, 559.4140],\n",
       "          [230.1031, 407.3284, 272.3886, 425.8176],\n",
       "          [438.1387, 524.9116, 536.6311, 558.1860],\n",
       "          [652.2360, 457.0992, 734.1509, 492.3912],\n",
       "          [243.7031, 245.8393, 290.7862, 261.5024],\n",
       "          [223.8892, 171.2679, 274.2976, 190.0322],\n",
       "          [ 48.7170,  92.2197,  87.8659, 127.3227],\n",
       "          [ 57.1168, 521.8612, 164.9446, 547.4728],\n",
       "          [596.2147, 179.8746, 640.3647, 196.9865]])}}"
      ]
     },
     "execution_count": 38,
     "metadata": {},
     "output_type": "execute_result"
    }
   ],
   "source": [
    "results"
   ]
  },
  {
   "cell_type": "code",
   "execution_count": 39,
   "metadata": {},
   "outputs": [],
   "source": [
    "new_df = pd.DataFrame()\n",
    "for image in os.listdir('Temp/images'):\n",
    "    result_dict = final_result(image, ground_truth, results)\n",
    "    temp_df = pd.DataFrame(result_dict)\n",
    "    \n",
    "    new_df = pd.concat([new_df, temp_df], ignore_index=True)\n",
    "    "
   ]
  },
  {
   "cell_type": "code",
   "execution_count": 40,
   "metadata": {},
   "outputs": [
    {
     "data": {
      "text/html": [
       "<div>\n",
       "<style scoped>\n",
       "    .dataframe tbody tr th:only-of-type {\n",
       "        vertical-align: middle;\n",
       "    }\n",
       "\n",
       "    .dataframe tbody tr th {\n",
       "        vertical-align: top;\n",
       "    }\n",
       "\n",
       "    .dataframe thead th {\n",
       "        text-align: right;\n",
       "    }\n",
       "</style>\n",
       "<table border=\"1\" class=\"dataframe\">\n",
       "  <thead>\n",
       "    <tr style=\"text-align: right;\">\n",
       "      <th></th>\n",
       "      <th>image</th>\n",
       "      <th>label</th>\n",
       "      <th>ground_truth</th>\n",
       "      <th>prediction</th>\n",
       "      <th>iou</th>\n",
       "      <th>result</th>\n",
       "    </tr>\n",
       "  </thead>\n",
       "  <tbody>\n",
       "    <tr>\n",
       "      <th>0</th>\n",
       "      <td>11913d58-drawing_88.png</td>\n",
       "      <td>3</td>\n",
       "      <td>[39.53488372093023, 351.06976744186045, 75.116...</td>\n",
       "      <td>[36.104023, 352.7266, 78.72478, 387.72806]</td>\n",
       "      <td>0.766419</td>\n",
       "      <td>TP</td>\n",
       "    </tr>\n",
       "    <tr>\n",
       "      <th>1</th>\n",
       "      <td>11913d58-drawing_88.png</td>\n",
       "      <td>3</td>\n",
       "      <td>[46.65116279069767, 66.41860465116278, 83.8139...</td>\n",
       "      <td>[46.165363, 68.865, 86.79257, 104.51612]</td>\n",
       "      <td>0.847471</td>\n",
       "      <td>TP</td>\n",
       "    </tr>\n",
       "    <tr>\n",
       "      <th>2</th>\n",
       "      <td>11913d58-drawing_88.png</td>\n",
       "      <td>1</td>\n",
       "      <td>[279.1162790697674, 529.7674418604652, 363.720...</td>\n",
       "      <td>[279.98224, 533.0856, 364.68942, 560.504]</td>\n",
       "      <td>0.827194</td>\n",
       "      <td>TP</td>\n",
       "    </tr>\n",
       "    <tr>\n",
       "      <th>3</th>\n",
       "      <td>11913d58-drawing_88.png</td>\n",
       "      <td>1</td>\n",
       "      <td>[279.1162790697674, 529.7674418604652, 363.720...</td>\n",
       "      <td>[281.50308, 531.3296, 359.0376, 558.7917]</td>\n",
       "      <td>0.860245</td>\n",
       "      <td>TP</td>\n",
       "    </tr>\n",
       "    <tr>\n",
       "      <th>4</th>\n",
       "      <td>11913d58-drawing_88.png</td>\n",
       "      <td>0</td>\n",
       "      <td>[626.2325581395348, 409.58139534883725, 732.18...</td>\n",
       "      <td>[]</td>\n",
       "      <td>0.000000</td>\n",
       "      <td>FN</td>\n",
       "    </tr>\n",
       "    <tr>\n",
       "      <th>...</th>\n",
       "      <td>...</td>\n",
       "      <td>...</td>\n",
       "      <td>...</td>\n",
       "      <td>...</td>\n",
       "      <td>...</td>\n",
       "      <td>...</td>\n",
       "    </tr>\n",
       "    <tr>\n",
       "      <th>129</th>\n",
       "      <td>f601361a-drawing_42.png</td>\n",
       "      <td>0</td>\n",
       "      <td>[57.72093023255814, 523.4418604651163, 162.883...</td>\n",
       "      <td>[57.11677, 521.8612, 164.94464, 547.4728]</td>\n",
       "      <td>0.903289</td>\n",
       "      <td>TP</td>\n",
       "    </tr>\n",
       "    <tr>\n",
       "      <th>130</th>\n",
       "      <td>f601361a-drawing_42.png</td>\n",
       "      <td>2</td>\n",
       "      <td>[232.46511627906978, 407.99999999999994, 268.0...</td>\n",
       "      <td>[230.10313, 407.32843, 272.38864, 425.8176]</td>\n",
       "      <td>0.719705</td>\n",
       "      <td>TP</td>\n",
       "    </tr>\n",
       "    <tr>\n",
       "      <th>131</th>\n",
       "      <td>f601361a-drawing_42.png</td>\n",
       "      <td>2</td>\n",
       "      <td>[242.74418604651163, 242.7441860465117, 294.13...</td>\n",
       "      <td>[243.70311, 245.83932, 290.78616, 261.50238]</td>\n",
       "      <td>0.629439</td>\n",
       "      <td>TP</td>\n",
       "    </tr>\n",
       "    <tr>\n",
       "      <th>132</th>\n",
       "      <td>f601361a-drawing_42.png</td>\n",
       "      <td>2</td>\n",
       "      <td>[223.7674418604651, 170.7906976744186, 275.953...</td>\n",
       "      <td>[223.88919, 171.26787, 274.29764, 190.03215]</td>\n",
       "      <td>0.735720</td>\n",
       "      <td>TP</td>\n",
       "    </tr>\n",
       "    <tr>\n",
       "      <th>133</th>\n",
       "      <td>f601361a-drawing_42.png</td>\n",
       "      <td>2</td>\n",
       "      <td>[596.9767441860465, 180.27906976744188, 642.04...</td>\n",
       "      <td>[596.2147, 179.8746, 640.3647, 196.98648]</td>\n",
       "      <td>0.834869</td>\n",
       "      <td>TP</td>\n",
       "    </tr>\n",
       "  </tbody>\n",
       "</table>\n",
       "<p>134 rows × 6 columns</p>\n",
       "</div>"
      ],
      "text/plain": [
       "                       image label  \\\n",
       "0    11913d58-drawing_88.png     3   \n",
       "1    11913d58-drawing_88.png     3   \n",
       "2    11913d58-drawing_88.png     1   \n",
       "3    11913d58-drawing_88.png     1   \n",
       "4    11913d58-drawing_88.png     0   \n",
       "..                       ...   ...   \n",
       "129  f601361a-drawing_42.png     0   \n",
       "130  f601361a-drawing_42.png     2   \n",
       "131  f601361a-drawing_42.png     2   \n",
       "132  f601361a-drawing_42.png     2   \n",
       "133  f601361a-drawing_42.png     2   \n",
       "\n",
       "                                          ground_truth  \\\n",
       "0    [39.53488372093023, 351.06976744186045, 75.116...   \n",
       "1    [46.65116279069767, 66.41860465116278, 83.8139...   \n",
       "2    [279.1162790697674, 529.7674418604652, 363.720...   \n",
       "3    [279.1162790697674, 529.7674418604652, 363.720...   \n",
       "4    [626.2325581395348, 409.58139534883725, 732.18...   \n",
       "..                                                 ...   \n",
       "129  [57.72093023255814, 523.4418604651163, 162.883...   \n",
       "130  [232.46511627906978, 407.99999999999994, 268.0...   \n",
       "131  [242.74418604651163, 242.7441860465117, 294.13...   \n",
       "132  [223.7674418604651, 170.7906976744186, 275.953...   \n",
       "133  [596.9767441860465, 180.27906976744188, 642.04...   \n",
       "\n",
       "                                       prediction       iou result  \n",
       "0      [36.104023, 352.7266, 78.72478, 387.72806]  0.766419     TP  \n",
       "1        [46.165363, 68.865, 86.79257, 104.51612]  0.847471     TP  \n",
       "2       [279.98224, 533.0856, 364.68942, 560.504]  0.827194     TP  \n",
       "3       [281.50308, 531.3296, 359.0376, 558.7917]  0.860245     TP  \n",
       "4                                              []  0.000000     FN  \n",
       "..                                            ...       ...    ...  \n",
       "129     [57.11677, 521.8612, 164.94464, 547.4728]  0.903289     TP  \n",
       "130   [230.10313, 407.32843, 272.38864, 425.8176]  0.719705     TP  \n",
       "131  [243.70311, 245.83932, 290.78616, 261.50238]  0.629439     TP  \n",
       "132  [223.88919, 171.26787, 274.29764, 190.03215]  0.735720     TP  \n",
       "133     [596.2147, 179.8746, 640.3647, 196.98648]  0.834869     TP  \n",
       "\n",
       "[134 rows x 6 columns]"
      ]
     },
     "execution_count": 40,
     "metadata": {},
     "output_type": "execute_result"
    }
   ],
   "source": [
    "new_df"
   ]
  },
  {
   "cell_type": "code",
   "execution_count": 41,
   "metadata": {},
   "outputs": [
    {
     "data": {
      "text/plain": [
       "result\n",
       "TP    110\n",
       "FN     21\n",
       "FP      3\n",
       "Name: count, dtype: int64"
      ]
     },
     "execution_count": 41,
     "metadata": {},
     "output_type": "execute_result"
    }
   ],
   "source": [
    "new_df['result'].value_counts()"
   ]
  },
  {
   "cell_type": "code",
   "execution_count": 42,
   "metadata": {},
   "outputs": [
    {
     "data": {
      "text/plain": [
       "result\n",
       "TP    110\n",
       "FN     21\n",
       "FP      3\n",
       "Name: count, dtype: int64"
      ]
     },
     "execution_count": 42,
     "metadata": {},
     "output_type": "execute_result"
    }
   ],
   "source": [
    "new_df['result'].value_counts()"
   ]
  },
  {
   "cell_type": "code",
   "execution_count": 52,
   "metadata": {},
   "outputs": [
    {
     "data": {
      "text/plain": [
       "result\n",
       "TP    110\n",
       "FN     21\n",
       "FP      3\n",
       "Name: count, dtype: int64"
      ]
     },
     "execution_count": 52,
     "metadata": {},
     "output_type": "execute_result"
    }
   ],
   "source": [
    "new_df['result'].value_counts()"
   ]
  },
  {
   "cell_type": "code",
   "execution_count": 53,
   "metadata": {},
   "outputs": [],
   "source": [
    "TP, FN, FP= new_df['result'].value_counts()\n",
    "# FP = 0"
   ]
  },
  {
   "cell_type": "code",
   "execution_count": 54,
   "metadata": {},
   "outputs": [
    {
     "name": "stdout",
     "output_type": "stream",
     "text": [
      "Accuracy = 0.8209\n",
      "Precision = 0.9735\n",
      "Recall = 0.8397\n"
     ]
    }
   ],
   "source": [
    "print(f\"Accuracy = {TP/(TP+FP+FN):.4f}\")\n",
    "print(f\"Precision = {TP/(TP+FP):.4f}\")\n",
    "print(f\"Recall = {TP/(TP+FN):.4f}\")"
   ]
  },
  {
   "cell_type": "markdown",
   "metadata": {},
   "source": [
    "### Classwise Accuracy"
   ]
  },
  {
   "cell_type": "code",
   "execution_count": 55,
   "metadata": {},
   "outputs": [
    {
     "data": {
      "text/plain": [
       "result\n",
       "TP    18\n",
       "FN     9\n",
       "Name: count, dtype: int64"
      ]
     },
     "execution_count": 55,
     "metadata": {},
     "output_type": "execute_result"
    }
   ],
   "source": [
    "new_df.loc[new_df['label'] == 0]['result'].value_counts()"
   ]
  },
  {
   "cell_type": "code",
   "execution_count": 57,
   "metadata": {},
   "outputs": [
    {
     "name": "stdout",
     "output_type": "stream",
     "text": [
      "Accuracy = 0.6667\n",
      "Precision = 1.0000\n",
      "Recall = 0.6667\n"
     ]
    }
   ],
   "source": [
    "# Barscale \n",
    "TP, FN = new_df.loc[new_df['label'] == 0]['result'].value_counts()\n",
    "FP = 0\n",
    "# FN = 0\n",
    "accuracy0 = TP/(TP+FP+FN)\n",
    "print(f\"Accuracy = {accuracy0:.4f}\")\n",
    "print(f\"Precision = {TP/(TP+FP):.4f}\")\n",
    "print(f\"Recall = {TP/(TP+FN):.4f}\")\n"
   ]
  },
  {
   "cell_type": "code",
   "execution_count": 58,
   "metadata": {},
   "outputs": [
    {
     "data": {
      "text/plain": [
       "result\n",
       "TP    31\n",
       "Name: count, dtype: int64"
      ]
     },
     "execution_count": 58,
     "metadata": {},
     "output_type": "execute_result"
    }
   ],
   "source": [
    "new_df.loc[new_df['label'] == 1]['result'].value_counts()"
   ]
  },
  {
   "cell_type": "code",
   "execution_count": 60,
   "metadata": {},
   "outputs": [
    {
     "name": "stdout",
     "output_type": "stream",
     "text": [
      "Accuracy = 1.0000\n",
      "Precision = 1.0000\n",
      "Recall = 1.0000\n"
     ]
    },
    {
     "name": "stderr",
     "output_type": "stream",
     "text": [
      "C:\\Users\\Chirantan_Degloorkar\\AppData\\Local\\Temp\\ipykernel_15036\\336505981.py:5: FutureWarning: Series.__getitem__ treating keys as positions is deprecated. In a future version, integer keys will always be treated as labels (consistent with DataFrame behavior). To access a value by position, use `ser.iloc[pos]`\n",
      "  accuracy1= TP[0]/(TP[0]+FP+FN)\n",
      "C:\\Users\\Chirantan_Degloorkar\\AppData\\Local\\Temp\\ipykernel_15036\\336505981.py:7: FutureWarning: Series.__getitem__ treating keys as positions is deprecated. In a future version, integer keys will always be treated as labels (consistent with DataFrame behavior). To access a value by position, use `ser.iloc[pos]`\n",
      "  print(f\"Precision = {TP[0]/(TP[0]+FP):.4f}\")\n",
      "C:\\Users\\Chirantan_Degloorkar\\AppData\\Local\\Temp\\ipykernel_15036\\336505981.py:8: FutureWarning: Series.__getitem__ treating keys as positions is deprecated. In a future version, integer keys will always be treated as labels (consistent with DataFrame behavior). To access a value by position, use `ser.iloc[pos]`\n",
      "  print(f\"Recall = {TP[0]/(TP[0]+FN):.4f}\")\n"
     ]
    }
   ],
   "source": [
    "# Color Stamp\n",
    "TP = new_df.loc[new_df['label'] == 1]['result'].value_counts()\n",
    "FN = 0\n",
    "FP = 0\n",
    "accuracy1= TP[0]/(TP[0]+FP+FN)\n",
    "print(f\"Accuracy = {accuracy1:.4f}\")\n",
    "print(f\"Precision = {TP[0]/(TP[0]+FP):.4f}\")\n",
    "print(f\"Recall = {TP[0]/(TP[0]+FN):.4f}\")"
   ]
  },
  {
   "cell_type": "code",
   "execution_count": 61,
   "metadata": {},
   "outputs": [
    {
     "name": "stdout",
     "output_type": "stream",
     "text": [
      "Accuracy = 0.7736\n",
      "Precision = 0.9318\n",
      "Recall = 0.8200\n"
     ]
    }
   ],
   "source": [
    "# Detail Labels\n",
    "TP, FN, FP = new_df.loc[new_df['label'] == 2]['result'].value_counts()\n",
    "accuracy2 = TP/(TP+FP+FN)\n",
    "print(f\"Accuracy = {accuracy2:.4f}\")\n",
    "print(f\"Precision = {TP/(TP+FP):.4f}\")\n",
    "print(f\"Recall = {TP/(TP+FN):.4f}\")"
   ]
  },
  {
   "cell_type": "code",
   "execution_count": 62,
   "metadata": {},
   "outputs": [
    {
     "name": "stdout",
     "output_type": "stream",
     "text": [
      "Accuracy = 0.8696\n",
      "Precision = 1.0000\n",
      "Recall = 0.8696\n"
     ]
    }
   ],
   "source": [
    "# North Sign\n",
    "TP, FN = new_df.loc[new_df['label'] == 3]['result'].value_counts()\n",
    "FP = 0\n",
    "accuracy3 = TP/(TP+FP+FN)\n",
    "print(f\"Accuracy = {accuracy3:.4f}\")\n",
    "print(f\"Precision = {TP/(TP+FP):.4f}\")\n",
    "print(f\"Recall = {TP/(TP+FN):.4f}\")"
   ]
  },
  {
   "cell_type": "code",
   "execution_count": 63,
   "metadata": {},
   "outputs": [
    {
     "name": "stdout",
     "output_type": "stream",
     "text": [
      "Model Accuracy = 0.8275\n"
     ]
    }
   ],
   "source": [
    "# Model Accuracy \n",
    "print(f\"Model Accuracy = {(accuracy0 + accuracy1 + accuracy2 + accuracy3)/4:.4f}\")"
   ]
  },
  {
   "cell_type": "code",
   "execution_count": 64,
   "metadata": {},
   "outputs": [],
   "source": [
    "image_analysis_df = pd.DataFrame()\n",
    "image_analysis_df['image'] = new_df['image'].unique()\n",
    "image_analysis_df['TP'] = new_df.groupby('image')['result'].apply(lambda x: x.value_counts().get('TP', 0)).values\n",
    "image_analysis_df['FP'] = new_df.groupby('image')['result'].apply(lambda x: x.value_counts().get('FP', 0)).values\n",
    "image_analysis_df['FN'] = new_df.groupby('image')['result'].apply(lambda x: x.value_counts().get('FN', 0)).values"
   ]
  },
  {
   "cell_type": "code",
   "execution_count": 65,
   "metadata": {},
   "outputs": [
    {
     "data": {
      "text/html": [
       "<div>\n",
       "<style scoped>\n",
       "    .dataframe tbody tr th:only-of-type {\n",
       "        vertical-align: middle;\n",
       "    }\n",
       "\n",
       "    .dataframe tbody tr th {\n",
       "        vertical-align: top;\n",
       "    }\n",
       "\n",
       "    .dataframe thead th {\n",
       "        text-align: right;\n",
       "    }\n",
       "</style>\n",
       "<table border=\"1\" class=\"dataframe\">\n",
       "  <thead>\n",
       "    <tr style=\"text-align: right;\">\n",
       "      <th></th>\n",
       "      <th>image</th>\n",
       "      <th>TP</th>\n",
       "      <th>FP</th>\n",
       "      <th>FN</th>\n",
       "    </tr>\n",
       "  </thead>\n",
       "  <tbody>\n",
       "    <tr>\n",
       "      <th>0</th>\n",
       "      <td>11913d58-drawing_88.png</td>\n",
       "      <td>5</td>\n",
       "      <td>0</td>\n",
       "      <td>2</td>\n",
       "    </tr>\n",
       "    <tr>\n",
       "      <th>1</th>\n",
       "      <td>17bd5f92-drawing_106.png</td>\n",
       "      <td>8</td>\n",
       "      <td>0</td>\n",
       "      <td>0</td>\n",
       "    </tr>\n",
       "    <tr>\n",
       "      <th>2</th>\n",
       "      <td>2067578c-drawing_24.png</td>\n",
       "      <td>3</td>\n",
       "      <td>1</td>\n",
       "      <td>2</td>\n",
       "    </tr>\n",
       "    <tr>\n",
       "      <th>3</th>\n",
       "      <td>2466f98b-drawing_67.png</td>\n",
       "      <td>10</td>\n",
       "      <td>0</td>\n",
       "      <td>0</td>\n",
       "    </tr>\n",
       "    <tr>\n",
       "      <th>4</th>\n",
       "      <td>3108be30-drawing_43.png</td>\n",
       "      <td>4</td>\n",
       "      <td>0</td>\n",
       "      <td>1</td>\n",
       "    </tr>\n",
       "    <tr>\n",
       "      <th>5</th>\n",
       "      <td>449d473c-drawing_25.png</td>\n",
       "      <td>9</td>\n",
       "      <td>0</td>\n",
       "      <td>1</td>\n",
       "    </tr>\n",
       "    <tr>\n",
       "      <th>6</th>\n",
       "      <td>4fdca17b-drawing_7.png</td>\n",
       "      <td>2</td>\n",
       "      <td>0</td>\n",
       "      <td>2</td>\n",
       "    </tr>\n",
       "    <tr>\n",
       "      <th>7</th>\n",
       "      <td>5acab2e6-drawing_64.png</td>\n",
       "      <td>5</td>\n",
       "      <td>0</td>\n",
       "      <td>0</td>\n",
       "    </tr>\n",
       "    <tr>\n",
       "      <th>8</th>\n",
       "      <td>8318502d-drawing_15.png</td>\n",
       "      <td>4</td>\n",
       "      <td>0</td>\n",
       "      <td>1</td>\n",
       "    </tr>\n",
       "    <tr>\n",
       "      <th>9</th>\n",
       "      <td>92e4c80c-drawing_45.png</td>\n",
       "      <td>8</td>\n",
       "      <td>0</td>\n",
       "      <td>0</td>\n",
       "    </tr>\n",
       "    <tr>\n",
       "      <th>10</th>\n",
       "      <td>a01b4a37-drawing_168.png</td>\n",
       "      <td>4</td>\n",
       "      <td>1</td>\n",
       "      <td>3</td>\n",
       "    </tr>\n",
       "    <tr>\n",
       "      <th>11</th>\n",
       "      <td>a34b8e8d-drawing_44.png</td>\n",
       "      <td>4</td>\n",
       "      <td>0</td>\n",
       "      <td>1</td>\n",
       "    </tr>\n",
       "    <tr>\n",
       "      <th>12</th>\n",
       "      <td>a55f419c-drawing_48.png</td>\n",
       "      <td>4</td>\n",
       "      <td>0</td>\n",
       "      <td>0</td>\n",
       "    </tr>\n",
       "    <tr>\n",
       "      <th>13</th>\n",
       "      <td>af0c0b68-drawing_76.png</td>\n",
       "      <td>9</td>\n",
       "      <td>0</td>\n",
       "      <td>2</td>\n",
       "    </tr>\n",
       "    <tr>\n",
       "      <th>14</th>\n",
       "      <td>b6c7e8be-drawing_56.png</td>\n",
       "      <td>7</td>\n",
       "      <td>0</td>\n",
       "      <td>1</td>\n",
       "    </tr>\n",
       "    <tr>\n",
       "      <th>15</th>\n",
       "      <td>cc5b592c-drawing_113.png</td>\n",
       "      <td>5</td>\n",
       "      <td>0</td>\n",
       "      <td>0</td>\n",
       "    </tr>\n",
       "    <tr>\n",
       "      <th>16</th>\n",
       "      <td>e616d66b-drawing_123.png</td>\n",
       "      <td>4</td>\n",
       "      <td>1</td>\n",
       "      <td>3</td>\n",
       "    </tr>\n",
       "    <tr>\n",
       "      <th>17</th>\n",
       "      <td>eef413ab-drawing_22.png</td>\n",
       "      <td>6</td>\n",
       "      <td>0</td>\n",
       "      <td>2</td>\n",
       "    </tr>\n",
       "    <tr>\n",
       "      <th>18</th>\n",
       "      <td>f601361a-drawing_42.png</td>\n",
       "      <td>9</td>\n",
       "      <td>0</td>\n",
       "      <td>0</td>\n",
       "    </tr>\n",
       "  </tbody>\n",
       "</table>\n",
       "</div>"
      ],
      "text/plain": [
       "                       image  TP  FP  FN\n",
       "0    11913d58-drawing_88.png   5   0   2\n",
       "1   17bd5f92-drawing_106.png   8   0   0\n",
       "2    2067578c-drawing_24.png   3   1   2\n",
       "3    2466f98b-drawing_67.png  10   0   0\n",
       "4    3108be30-drawing_43.png   4   0   1\n",
       "5    449d473c-drawing_25.png   9   0   1\n",
       "6     4fdca17b-drawing_7.png   2   0   2\n",
       "7    5acab2e6-drawing_64.png   5   0   0\n",
       "8    8318502d-drawing_15.png   4   0   1\n",
       "9    92e4c80c-drawing_45.png   8   0   0\n",
       "10  a01b4a37-drawing_168.png   4   1   3\n",
       "11   a34b8e8d-drawing_44.png   4   0   1\n",
       "12   a55f419c-drawing_48.png   4   0   0\n",
       "13   af0c0b68-drawing_76.png   9   0   2\n",
       "14   b6c7e8be-drawing_56.png   7   0   1\n",
       "15  cc5b592c-drawing_113.png   5   0   0\n",
       "16  e616d66b-drawing_123.png   4   1   3\n",
       "17   eef413ab-drawing_22.png   6   0   2\n",
       "18   f601361a-drawing_42.png   9   0   0"
      ]
     },
     "execution_count": 65,
     "metadata": {},
     "output_type": "execute_result"
    }
   ],
   "source": [
    "## TP, FP, FN count by image\n",
    "image_analysis_df"
   ]
  }
 ],
 "metadata": {
  "kernelspec": {
   "display_name": "venv",
   "language": "python",
   "name": "python3"
  },
  "language_info": {
   "codemirror_mode": {
    "name": "ipython",
    "version": 3
   },
   "file_extension": ".py",
   "mimetype": "text/x-python",
   "name": "python",
   "nbconvert_exporter": "python",
   "pygments_lexer": "ipython3",
   "version": "3.12.3"
  }
 },
 "nbformat": 4,
 "nbformat_minor": 2
}
